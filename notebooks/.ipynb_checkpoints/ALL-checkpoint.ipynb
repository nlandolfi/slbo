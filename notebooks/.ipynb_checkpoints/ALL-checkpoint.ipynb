{
 "cells": [
  {
   "cell_type": "code",
   "execution_count": 1,
   "metadata": {},
   "outputs": [],
   "source": [
    "import utils2\n",
    "import numpy as np\n",
    "import matplotlib.pyplot as plt"
   ]
  },
  {
   "cell_type": "markdown",
   "metadata": {},
   "source": [
    "# HCFB"
   ]
  },
  {
   "cell_type": "code",
   "execution_count": 2,
   "metadata": {},
   "outputs": [
    {
     "name": "stdout",
     "output_type": "stream",
     "text": [
      "Loading log file\n",
      "Loaded log file\n",
      "Reading lines\n",
      "Read lines\n",
      "time data '2019-05-10T20:00:53' does not match format '%Y-%m-%dT%H:%M:%S.%f'\n",
      "{'level': 'info', 'fmt': '[TRPO] # %d: n_episodes = %d, returns: {mean = %.0f, std = %.0f}, dist std = %.10f, dist mean = %.10f, vf_loss = %.3f', 'args': [0, 20, 887.0023183663995, 6.106294201742409, 0.24225834012031555, 1.187330961227417, 3.4188055992126465], 'caller': 'main2.py:226', 'time': '2019-05-10T20:00:53'}\n",
      "Run:\n",
      "\t100 Tasks so far\n",
      "First Stage took 0.0 minutes\n",
      "First Warmup took 22.247128784656525 minutes\n"
     ]
    }
   ],
   "source": [
    "r, lines = utils2.load(698208, reload=False)\n",
    "r.details()\n",
    "print(f\"First Stage took {r.slbos[0].stages[0].duration_in_seconds()/60} minutes\")\n",
    "print(f\"First Warmup took {r.warms[1].duration_in_seconds()/60} minutes\")"
   ]
  },
  {
   "cell_type": "code",
   "execution_count": 3,
   "metadata": {},
   "outputs": [
    {
     "name": "stdout",
     "output_type": "stream",
     "text": [
      "Mean over last 20: 607.6282004564467\n",
      "Max achieved: 737.4750209097966\n"
     ]
    },
    {
     "data": {
      "image/png": "[encoded data removed]",
      "text/plain": [
       "<Figure size 1080x360 with 1 Axes>"
      ]
     },
     "metadata": {
      "needs_background": "light"
     },
     "output_type": "display_data"
    }
   ],
   "source": [
    "print(f\"Mean over last 20: {np.mean(r.post_slbo_real_eval_means[-20:])}\")\n",
    "print(f\"Max achieved: {np.max(r.post_slbo_real_eval_means)}\")\n",
    "r.plot_post_slbo_evals()"
   ]
  },
  {
   "cell_type": "code",
   "execution_count": 5,
   "metadata": {},
   "outputs": [],
   "source": [
    "HCFBevals = [699943, 699944, 699945, 699946, 699947, 699948, 699949, 699950, 699951, 699952, 699953, 699954, 699955, 699956, 699957, 699958, 699959, 699960, 699961, 699962, 699963, 699964, 699965, 699966, 699967, 699968, 699969, 699970, 699971, 699972, 699973, 699974, 699975, 699976, 699977, 699978, 699979, 699980, 699981, 699982]"
   ]
  },
  {
   "cell_type": "code",
   "execution_count": null,
   "metadata": {},
   "outputs": [],
   "source": [
    "HCFBeval_runs = [utils2.load(job, reload=True, verbose=False) for job in HCFBevals]\n",
    "HCFB = [np.append(t[0].slbos[0].episode_real_mean_evals, t[0].post_slbo_real_eval_means[0]) for t in HCFBeval_runs]\n",
    "HCFB = np.array(HCFB)\n",
    "plt.errorbar(np.arange(5), np.mean(HCFB, axis=0), yerr=np.std(HCFB, axis=0))"
   ]
  },
  {
   "cell_type": "markdown",
   "metadata": {},
   "source": [
    "# HCP"
   ]
  },
  {
   "cell_type": "code",
   "execution_count": null,
   "metadata": {},
   "outputs": [],
   "source": [
    "r, lines = utils2.load(698209, reload=False)\n",
    "r.details()\n",
    "print(f\"First Stage took {r.slbos[0].stages[0].duration_in_seconds()/60} minutes\")\n",
    "print(f\"First Warmup took {r.warms[1].duration_in_seconds()/60} minutes\")"
   ]
  },
  {
   "cell_type": "code",
   "execution_count": null,
   "metadata": {},
   "outputs": [],
   "source": [
    "print(f\"Mean over last 20: {np.mean(r.post_slbo_real_eval_means[-20:])}\")\n",
    "print(f\"Max achieved: {np.max(r.post_slbo_real_eval_means)}\")\n",
    "r.plot_post_slbo_evals()"
   ]
  },
  {
   "cell_type": "code",
   "execution_count": null,
   "metadata": {},
   "outputs": [],
   "source": [
    "HCPevals = [699983, 699984, 699985, 699986, 699987, 699988, 699989, 699990, 699991, 699992, 699993, 699994, 699995, 699996, 699997, 699998, 699999, 700000, 700001, 700002, 700003, 700004, 700005, 700006, 700007, 700008, 700009, 700010, 700011, 700012, 700013, 700014, 700015, 700016, 700017, 700018, 700019, 700020, 700021, 700022]"
   ]
  },
  {
   "cell_type": "code",
   "execution_count": null,
   "metadata": {},
   "outputs": [],
   "source": [
    "HCPeval_runs = [utils2.load(job, reload=False, verbose=False) for job in HCPevals]\n",
    "HCP = [np.append(t[0].slbos[0].episode_real_mean_evals, t[0].post_slbo_real_eval_means[0]) for t in HCPeval_runs]\n",
    "HCP = np.array(HCP)\n",
    "plt.errorbar(np.arange(5), np.mean(HCP, axis=0), yerr=np.std(HCP, axis=0))"
   ]
  },
  {
   "cell_type": "markdown",
   "metadata": {},
   "source": [
    "# HCF"
   ]
  },
  {
   "cell_type": "code",
   "execution_count": null,
   "metadata": {},
   "outputs": [],
   "source": [
    "r, lines = utils2.load(698210, reload=False)\n",
    "r.details()\n",
    "print(f\"First Stage took {r.slbos[0].stages[0].duration_in_seconds()/60} minutes\")\n",
    "print(f\"First Warmup took {r.warms[1].duration_in_seconds()/60} minutes\")"
   ]
  },
  {
   "cell_type": "code",
   "execution_count": null,
   "metadata": {},
   "outputs": [],
   "source": [
    "print(f\"Mean over last 20: {np.mean(r.post_slbo_real_eval_means[-20:])}\")\n",
    "print(f\"Max achieved: {np.max(r.post_slbo_real_eval_means)}\")\n",
    "r.plot_post_slbo_evals()"
   ]
  },
  {
   "cell_type": "code",
   "execution_count": null,
   "metadata": {},
   "outputs": [],
   "source": [
    "HCFevals = [700023, 700024, 700025, 700026, 700027, 700028, 700029, 700030, 700031, 700032, 700033, 700034, 700035, 700036, 700037, 700038, 700039, 700040, 700041, 700042, 700043, 700044, 700045, 700046, 700047, 700048, 700049, 700050, 700051, 700052, 700053, 700054, 700055, 700056, 700057, 700058, 700059, 700060, 700061, 700062]"
   ]
  },
  {
   "cell_type": "code",
   "execution_count": null,
   "metadata": {},
   "outputs": [],
   "source": [
    "HCFeval_runs = [utils2.load(job, reload=False, verbose=False) for job in HCFevals]\n",
    "HCF = [np.append(t[0].slbos[0].episode_real_mean_evals, t[0].post_slbo_real_eval_means[0]) for t in HCFeval_runs]\n",
    "HCF = np.array(HCF)\n",
    "plt.errorbar(np.arange(5), np.mean(HCF, axis=0), yerr=np.std(HCF, axis=0))"
   ]
  },
  {
   "cell_type": "code",
   "execution_count": null,
   "metadata": {},
   "outputs": [],
   "source": [
    "HCF50evals = [703222, 703223, 703224, 703225, 703226, 703227, 703228, 703229, 703230, 703231, 703232, 703233, 703234, 703235, 703236, 703237, 703238, 703239, 703240, 703241, 703242, 703243, 703244, 703245, 703246, 703247, 703248, 703249, 703250, 703251, 703252, 703253, 703254, 703255, 703256, 703257, 703258, 703259, 703260, 703261]\n",
    "HCF50eval_runs = [utils2.load(job, reload=False, verbose=False) for job in HCF50evals]\n",
    "HCF50 = [np.append(t[0].slbos[0].episode_real_mean_evals, t[0].post_slbo_real_eval_means[0]) for t in HCF50eval_runs]\n",
    "HCF50 = np.array(HCF50)\n",
    "\n"
   ]
  },
  {
   "cell_type": "code",
   "execution_count": null,
   "metadata": {},
   "outputs": [],
   "source": [
    "plt.errorbar(np.arange(5), np.mean(HCF, axis=0), yerr=np.std(HCF, axis=0), label=\"100 iters\")\n",
    "plt.errorbar(np.arange(5)+0.05, np.mean(HCF50, axis=0), yerr=np.std(HCF50, axis=0), label=\"50 iters\")\n",
    "plt.legend()"
   ]
  },
  {
   "cell_type": "markdown",
   "metadata": {},
   "source": [
    "# AFB"
   ]
  },
  {
   "cell_type": "code",
   "execution_count": null,
   "metadata": {},
   "outputs": [],
   "source": [
    "r, lines = utils2.load(698211, reload=False)\n",
    "r.details()\n",
    "print(f\"First Stage took {r.slbos[0].stages[0].duration_in_seconds()/60} minutes\")\n",
    "print(f\"First Warmup took {r.warms[1].duration_in_seconds()/60} minutes\")"
   ]
  },
  {
   "cell_type": "code",
   "execution_count": null,
   "metadata": {},
   "outputs": [],
   "source": [
    "print(f\"Mean over last 20: {np.mean(r.post_slbo_real_eval_means[-20:])}\")\n",
    "print(f\"Max achieved: {np.max(r.post_slbo_real_eval_means)}\")\n",
    "r.plot_post_slbo_evals()"
   ]
  },
  {
   "cell_type": "code",
   "execution_count": null,
   "metadata": {},
   "outputs": [],
   "source": [
    "AFBevals = [700063, 700064, 700065, 700066, 700067, 700068, 700069, 700070, 700071, 700072, 700073, 700074, 700075, 700076, 700077, 700078, 700079, 700080, 700081, 700082, 700083, 700084, 700085, 700086, 700087, 700088, 700089, 700090, 700091, 700092, 700093, 700094, 700095, 700096, 700097, 700098, 700099, 700100, 700101, 700102]"
   ]
  },
  {
   "cell_type": "code",
   "execution_count": null,
   "metadata": {},
   "outputs": [],
   "source": [
    "AFBeval_runs = [utils2.load(job, reload=False, verbose=False) for job in AFBevals]\n",
    "AFB = [np.append(t[0].slbos[0].episode_real_mean_evals, t[0].post_slbo_real_eval_means[0]) for t in AFBeval_runs]\n",
    "AFB = np.array(AFB)\n",
    "plt.errorbar(np.arange(5), np.mean(AFB, axis=0), yerr=np.std(AFB, axis=0))"
   ]
  },
  {
   "cell_type": "markdown",
   "metadata": {},
   "source": [
    "# AP"
   ]
  },
  {
   "cell_type": "code",
   "execution_count": null,
   "metadata": {},
   "outputs": [],
   "source": [
    "r, lines = utils2.load(698212, reload=False)\n",
    "r.details()\n",
    "print(f\"First Stage took {r.slbos[0].stages[0].duration_in_seconds()/60} minutes\")\n",
    "print(f\"First Warmup took {r.warms[1].duration_in_seconds()/60} minutes\")"
   ]
  },
  {
   "cell_type": "code",
   "execution_count": null,
   "metadata": {},
   "outputs": [],
   "source": [
    "print(f\"Mean over last 20: {np.mean(r.post_slbo_real_eval_means[-20:])}\")\n",
    "print(f\"Max achieved: {np.max(r.post_slbo_real_eval_means)}\")\n",
    "r.plot_post_slbo_evals()"
   ]
  },
  {
   "cell_type": "code",
   "execution_count": null,
   "metadata": {},
   "outputs": [],
   "source": [
    "APevals = [700103, 700104, 700105, 700106, 700107, 700108, 700109, 700110, 700111, 700112, 700113, 700114, 700115, 700116, 700117, 700118, 700119, 700120, 700121, 700122, 700123, 700124, 700125, 700126, 700127, 700128, 700129, 700130, 700131, 700132, 700133, 700134, 700135, 700136, 700137, 700138, 700139, 700140, 700141, 700142]"
   ]
  },
  {
   "cell_type": "code",
   "execution_count": null,
   "metadata": {},
   "outputs": [],
   "source": [
    "APeval_runs = [utils2.load(job, reload=False, verbose=False) for job in APevals]\n",
    "AP = [np.append(t[0].slbos[0].episode_real_mean_evals, t[0].post_slbo_real_eval_means[0]) for t in APeval_runs]\n",
    "AP = np.array(AP)\n",
    "plt.errorbar(np.arange(5), np.mean(AP, axis=0), yerr=np.std(AP, axis=0))"
   ]
  },
  {
   "cell_type": "markdown",
   "metadata": {},
   "source": [
    "# AF"
   ]
  },
  {
   "cell_type": "code",
   "execution_count": null,
   "metadata": {},
   "outputs": [],
   "source": [
    "r, lines = utils2.load(698213, reload=False)\n",
    "r.details()\n",
    "print(f\"First Stage took {r.slbos[0].stages[0].duration_in_seconds()/60} minutes\")\n",
    "print(f\"First Warmup took {r.warms[1].duration_in_seconds()/60} minutes\")"
   ]
  },
  {
   "cell_type": "code",
   "execution_count": null,
   "metadata": {},
   "outputs": [],
   "source": [
    "print(f\"Mean over last 20: {np.mean(r.post_slbo_real_eval_means[-20:])}\")\n",
    "print(f\"Max achieved: {np.max(r.post_slbo_real_eval_means)}\")\n",
    "r.plot_post_slbo_evals()"
   ]
  },
  {
   "cell_type": "code",
   "execution_count": null,
   "metadata": {},
   "outputs": [],
   "source": [
    "AFevals = [700143, 700144, 700145, 700146, 700147, 700148, 700149, 700150, 700151, 700152, 700153, 700154, 700155, 700156, 700157, 700158, 700159, 700160, 700161, 700162, 700163, 700164, 700165, 700166, 700167, 700168, 700169, 700170, 700171, 700172, 700173, 700174, 700175, 700176, 700177, 700178, 700179, 700180, 700181, 700182]"
   ]
  },
  {
   "cell_type": "code",
   "execution_count": null,
   "metadata": {},
   "outputs": [],
   "source": [
    "AFeval_runs = [utils2.load(job, reload=False, verbose=False) for job in AFevals]\n",
    "AF = [np.append(t[0].slbos[0].episode_real_mean_evals, t[0].post_slbo_real_eval_means[0]) for t in AFeval_runs]\n",
    "AF = np.array(AF)\n",
    "plt.errorbar(np.arange(5), np.mean(AF, axis=0), yerr=np.std(AF, axis=0))"
   ]
  },
  {
   "cell_type": "markdown",
   "metadata": {},
   "source": [
    "# AD"
   ]
  },
  {
   "cell_type": "code",
   "execution_count": null,
   "metadata": {},
   "outputs": [],
   "source": [
    "r, lines = utils2.load(698356, reload=False)\n",
    "r.details()\n",
    "print(f\"First Stage took {r.slbos[0].stages[0].duration_in_seconds()/60} minutes\")\n",
    "print(f\"First Warmup took {r.warms[1].duration_in_seconds()/60} minutes\")"
   ]
  },
  {
   "cell_type": "code",
   "execution_count": null,
   "metadata": {},
   "outputs": [],
   "source": [
    "print(f\"Mean over last 20: {np.mean(r.post_slbo_real_eval_means[-20:])}\")\n",
    "print(f\"Max achieved: {np.max(r.post_slbo_real_eval_means)}\")\n",
    "r.plot_post_slbo_evals()"
   ]
  },
  {
   "cell_type": "code",
   "execution_count": null,
   "metadata": {},
   "outputs": [],
   "source": [
    "ADevals = [702830, 702831, 702832, 702833, 702834, 702835, 702836, 702837, 702838, 702839, 702840, 702841, 702842, 702843, 702844, 702845, 702846, 702847, 702848, 702849, 702850, 702851, 702852, 702853, 702854, 702855, 702856, 702857, 702858, 702859, 702860, 702861, 702862, 702863, 702864, 702865, 702866, 702867, 702868, 702869]"
   ]
  },
  {
   "cell_type": "code",
   "execution_count": null,
   "metadata": {},
   "outputs": [],
   "source": [
    "ADeval_runs = [utils2.load(job, reload=False, verbose=False) for job in ADevals]\n",
    "AD = [np.append(t[0].slbos[0].episode_real_mean_evals, t[0].post_slbo_real_eval_means[0]) for t in ADeval_runs]\n",
    "AD = np.array(AD)\n",
    "plt.errorbar(np.arange(5), np.mean(AD, axis=0), yerr=np.std(AD, axis=0))"
   ]
  },
  {
   "cell_type": "markdown",
   "metadata": {},
   "source": [
    "# HUFB"
   ]
  },
  {
   "cell_type": "code",
   "execution_count": null,
   "metadata": {},
   "outputs": [],
   "source": [
    "r, lines = utils2.load(698976, reload=False)\n",
    "r.details()\n",
    "print(f\"First Stage took {r.slbos[0].stages[0].duration_in_seconds()/60} minutes\")\n",
    "print(f\"First Warmup took {r.warms[1].duration_in_seconds()/60} minutes\")"
   ]
  },
  {
   "cell_type": "code",
   "execution_count": null,
   "metadata": {},
   "outputs": [],
   "source": [
    "print(f\"Mean over last 20: {np.mean(r.post_slbo_real_eval_means[-20:])}\")\n",
    "print(f\"Max achieved: {np.max(r.post_slbo_real_eval_means)}\")\n",
    "r.plot_post_slbo_evals()"
   ]
  },
  {
   "cell_type": "code",
   "execution_count": null,
   "metadata": {},
   "outputs": [],
   "source": [
    "HUFBevals = [700143, 700144, 700145, 700146, 700147, 700148, 700149, 700150, 700151, 700152, 700153, 700154, 700155, 700156, 700157, 700158, 700159, 700160, 700161, 700162, 700163, 700164, 700165, 700166, 700167, 700168, 700169, 700170, 700171, 700172, 700173, 700174, 700175, 700176, 700177, 700178, 700179, 700180, 700181, 700182]"
   ]
  },
  {
   "cell_type": "code",
   "execution_count": null,
   "metadata": {},
   "outputs": [],
   "source": [
    "HUFBeval_runs = [utils2.load(job, reload=False, verbose=False) for job in HUFBevals]\n",
    "HUFB = [np.append(t[0].slbos[0].episode_real_mean_evals, t[0].post_slbo_real_eval_means[0]) for t in HUFBeval_runs]\n",
    "HUFB = np.array(HUFB)\n",
    "plt.errorbar(np.arange(5), np.mean(HUFB, axis=0), yerr=np.std(HUFB, axis=0))"
   ]
  },
  {
   "cell_type": "code",
   "execution_count": null,
   "metadata": {},
   "outputs": [],
   "source": [
    "fig, ax := plt.subplots((4, 2), figsize=(15, 10))\n",
    "    "
   ]
  }
 ],
 "metadata": {
  "kernelspec": {
   "display_name": "Python 3",
   "language": "python",
   "name": "python3"
  },
  "language_info": {
   "codemirror_mode": {
    "name": "ipython",
    "version": 3
   },
   "file_extension": ".py",
   "mimetype": "text/x-python",
   "name": "python",
   "nbconvert_exporter": "python",
   "pygments_lexer": "ipython3",
   "version": "3.6.8"
  }
 },
 "nbformat": 4,
 "nbformat_minor": 2
}
