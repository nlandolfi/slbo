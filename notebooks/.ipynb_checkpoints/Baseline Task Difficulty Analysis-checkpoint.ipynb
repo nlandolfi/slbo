{
 "cells": [
  {
   "cell_type": "code",
   "execution_count": 16,
   "metadata": {},
   "outputs": [],
   "source": [
    "import os\n",
    "from utils import *"
   ]
  },
  {
   "cell_type": "code",
   "execution_count": 17,
   "metadata": {},
   "outputs": [
    {
     "name": "stdout",
     "output_type": "stream",
     "text": [
      "We have 14 velocities, and 14 jobs.\n",
      "That is an average of 1.0 jobs per velocity.\n"
     ]
    }
   ],
   "source": [
    "# Map from velocities to list of jobs, assumed run by cheetahpretrain.sh\n",
    "\n",
    "velocities = {\n",
    "    -2.0: [532990], \n",
    "    -1.9: [536093],\n",
    "    -1.5: [536092],\n",
    "    -1.0: [532991], \n",
    "    -0.9: [536094],\n",
    "    -0.1: [532992], \n",
    "    -0.5: [536091],\n",
    "     0.1: [532889], \n",
    "     0.5: [532969], \n",
    "     0.9: [536095],\n",
    "     1.1: [536096],\n",
    "     1.5: [532970], \n",
    "     1.9: [532971], \n",
    "     2.0: [532975],\n",
    "}\n",
    "\n",
    "num_jobs = sum([len(velocities[vel]) for vel in velocities])\n",
    "print(f\"We have {len(velocities)} velocities, and {num_jobs} jobs.\")\n",
    "print(f\"That is an average of {num_jobs/len(velocities)} jobs per velocity.\")"
   ]
  },
  {
   "cell_type": "code",
   "execution_count": 26,
   "metadata": {},
   "outputs": [],
   "source": [
    "remotepaths ={vel: {job: f\"/tiger/u/lando/cpre/{job}/log.json\" for job in jobs} for (vel, jobs) in velocities.items()}\n",
    "localpaths ={vel: {job: f\"/tmp/log{job}.json\" for job in jobs} for (vel, jobs) in velocities.items()}"
   ]
  },
  {
   "cell_type": "code",
   "execution_count": 31,
   "metadata": {},
   "outputs": [
    {
     "name": "stdout",
     "output_type": "stream",
     "text": [
      "1\n",
      "2\n",
      "Loaded Job 532990, for velocity -2.0\n",
      "1\n",
      "2\n",
      "Loaded Job 536093, for velocity -1.9\n",
      "1\n",
      "2\n",
      "Loaded Job 536092, for velocity -1.5\n",
      "1\n",
      "2\n",
      "Loaded Job 532991, for velocity -1.0\n",
      "1\n",
      "2\n",
      "Loaded Job 536094, for velocity -0.9\n",
      "1\n",
      "2\n",
      "Loaded Job 532992, for velocity -0.1\n",
      "1\n",
      "2\n",
      "Loaded Job 536091, for velocity -0.5\n",
      "1\n",
      "2\n",
      "scp lando@sc.stanford.edu:/tiger/u/lando/cpre/532889/log.json /tmp/log532889.json\n"
     ]
    },
    {
     "ename": "Exception",
     "evalue": "Bad Status code",
     "output_type": "error",
     "traceback": [
      "\u001b[0;31m---------------------------------------------------------------------------\u001b[0m",
      "\u001b[0;31mException\u001b[0m                                 Traceback (most recent call last)",
      "\u001b[0;32m<ipython-input-31-705fa972a5e6>\u001b[0m in \u001b[0;36m<module>\u001b[0;34m\u001b[0m\n\u001b[1;32m      9\u001b[0m         \u001b[0;32mif\u001b[0m \u001b[0mrcode\u001b[0m \u001b[0;34m!=\u001b[0m \u001b[0;36m0\u001b[0m\u001b[0;34m:\u001b[0m\u001b[0;34m\u001b[0m\u001b[0;34m\u001b[0m\u001b[0m\n\u001b[1;32m     10\u001b[0m             \u001b[0mprint\u001b[0m\u001b[0;34m(\u001b[0m\u001b[0mcommand\u001b[0m\u001b[0;34m)\u001b[0m\u001b[0;34m\u001b[0m\u001b[0;34m\u001b[0m\u001b[0m\n\u001b[0;32m---> 11\u001b[0;31m             \u001b[0;32mraise\u001b[0m \u001b[0mException\u001b[0m\u001b[0;34m(\u001b[0m\u001b[0;34m\"Bad Status code\"\u001b[0m\u001b[0;34m)\u001b[0m\u001b[0;34m\u001b[0m\u001b[0;34m\u001b[0m\u001b[0m\n\u001b[0m\u001b[1;32m     12\u001b[0m         \u001b[0mprint\u001b[0m\u001b[0;34m(\u001b[0m\u001b[0;34mf\"Loaded Job {job}, for velocity {vel}\"\u001b[0m\u001b[0;34m)\u001b[0m\u001b[0;34m\u001b[0m\u001b[0;34m\u001b[0m\u001b[0m\n",
      "\u001b[0;31mException\u001b[0m: Bad Status code"
     ]
    }
   ],
   "source": [
    "for vel in velocities:\n",
    "    for job in velocities[vel]:\n",
    "        remote = remotepaths[vel][job]\n",
    "        local = localpaths[vel][job]\n",
    "        command = f\"scp lando@sc.stanford.edu:{remote} {local}\"\n",
    "        rcode = os.system(command)\n",
    "        if rcode != 0:\n",
    "            print(command)\n",
    "            raise Exception(\"Bad Status code\")\n",
    "        print(f\"Velocity = {vel}, Loaded Job {job}\")"
   ]
  },
  {
   "cell_type": "code",
   "execution_count": null,
   "metadata": {},
   "outputs": [],
   "source": [
    "lines = {vel: {job: read_log(paths[vel][job]) for job in jobs} for (vel, jobs) in velocities.items()}"
   ]
  },
  {
   "cell_type": "code",
   "execution_count": null,
   "metadata": {},
   "outputs": [],
   "source": [
    "warms = {vel: {} for vel in velocities}\n",
    "slbos = {vel: {} for vel in velocities}\n",
    "\n",
    "for vel in velocities:\n",
    "    for job in velocities[vel]:\n",
    "        warm, slbo = extract_rewards(lines[vel])\n",
    "        warms[vel][job] = warm\n",
    "        slbos[vel][job] = slbo\n",
    "        print(f\"Velocity {vel}, Job {job} has started {len(slbos[vel][job][0])} stages\")"
   ]
  },
  {
   "cell_type": "code",
   "execution_count": null,
   "metadata": {},
   "outputs": [],
   "source": [
    "real_rewards = {vel: {} for vel in velocities}\n",
    "virt_rewards = {vel: {} for vel in velocities}\n",
    "\n",
    "for vel in velocities:\n",
    "    for job in velocities[vel]:\n",
    "        real, virt = get_checkpoints(lines[vel])\n",
    "        real_rewards[vel][job] = real\n",
    "        virt_rewards[vel][job] = virt"
   ]
  },
  {
   "cell_type": "code",
   "execution_count": null,
   "metadata": {},
   "outputs": [],
   "source": [
    "warms_mean = {}\n",
    "warms_std = {}\n",
    "for vel in velocities:\n",
    "    warm = [np.asarray(warms[vel][job]) for job in warms[vel]]\n",
    "    min_length = min([len(w) for w in warms])\n",
    "    shortwarm = [w[:min_length] for w in warm]\n",
    "    warm = np.vstack(warm)\n",
    "    assert warm.shape == (len(velocities[vel]), min_length)\n",
    "    warmmean = np.mean(axis=1)\n",
    "    warmstd = np.std(axis=1)\n",
    "    warms_mean[vel] = warmmean\n",
    "    warms_std[vel] = warms_std"
   ]
  },
  {
   "cell_type": "code",
   "execution_count": null,
   "metadata": {},
   "outputs": [],
   "source": [
    "vellist = velocities.keys()\n",
    "max_rewards = {vel: max(real_rewards[vel]) for vel in real_rewards}\n",
    "for vel in vellist:\n",
    "    plt.axvline(x = vel)\n",
    "plt.scatter(vellist, [max_rewards[vel] for vel in vellist])\n",
    "print(max_rewards)"
   ]
  },
  {
   "cell_type": "code",
   "execution_count": null,
   "metadata": {},
   "outputs": [],
   "source": [
    "min_rewards = {vel: min(real_rewards[vel]) for vel in real_rewards}\n",
    "for vel in vellist:\n",
    "    plt.axvline(x = vel)\n",
    "plt.scatter(vellist, [min_rewards[vel] for vel in vellist])\n",
    "print(min_rewards)"
   ]
  },
  {
   "cell_type": "code",
   "execution_count": null,
   "metadata": {},
   "outputs": [],
   "source": [
    "avg_rewards = {vel: np.mean(np.asarray(real_rewards[vel][:-30])) for vel in vellist}\n",
    "for vel in vellist:\n",
    "    plt.axvline(x = vel)\n",
    "plt.scatter(vellist, [avg_rewards[vel] for vel in vellist])\n",
    "print(avg_rewards)"
   ]
  },
  {
   "cell_type": "code",
   "execution_count": null,
   "metadata": {},
   "outputs": [],
   "source": [
    "for vel in real_rewards:\n",
    "    fig, ax = plt.subplots()\n",
    "    ax.axhline(y=avg_rewards[vel], color=\"green\")\n",
    "    ax.plot(real_rewards[vel], label=f\"vel={vel}\")\n",
    "    ax.legend()"
   ]
  },
  {
   "cell_type": "code",
   "execution_count": null,
   "metadata": {},
   "outputs": [],
   "source": [
    "converged = []\n",
    "iters = {}\n",
    "for vel in velocities:\n",
    "    max_r = dict(max_rewards)[vel]\n",
    "    for (i, r) in enumerate(real_rewards[vel]):\n",
    "        if abs(r - max_r)/abs(max_r) < 0.01:\n",
    "            iters[vel] = i\n",
    "            break\n",
    "print(iters)\n",
    "plt.scatter(vellist, [iters[vel] for vel in vellist])"
   ]
  },
  {
   "cell_type": "code",
   "execution_count": null,
   "metadata": {},
   "outputs": [],
   "source": [
    "dict(max_rewards)[0.1]"
   ]
  },
  {
   "cell_type": "code",
   "execution_count": null,
   "metadata": {},
   "outputs": [],
   "source": [
    "plt.plot(real_rewards[0.1])"
   ]
  },
  {
   "cell_type": "code",
   "execution_count": null,
   "metadata": {},
   "outputs": [],
   "source": []
  }
 ],
 "metadata": {
  "kernelspec": {
   "display_name": "Python 3",
   "language": "python",
   "name": "python3"
  },
  "language_info": {
   "codemirror_mode": {
    "name": "ipython",
    "version": 3
   },
   "file_extension": ".py",
   "mimetype": "text/x-python",
   "name": "python",
   "nbconvert_exporter": "python",
   "pygments_lexer": "ipython3",
   "version": "3.6.8"
  }
 },
 "nbformat": 4,
 "nbformat_minor": 2
}
