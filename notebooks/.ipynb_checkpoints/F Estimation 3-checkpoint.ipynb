{
 "cells": [
  {
   "cell_type": "code",
   "execution_count": 4,
   "metadata": {},
   "outputs": [],
   "source": [
    "import numpy as np\n",
    "import cvxpy as cp\n",
    "import matplotlib.pyplot as plt\n",
    "np.random.seed(11)"
   ]
  },
  {
   "cell_type": "code",
   "execution_count": 5,
   "metadata": {},
   "outputs": [],
   "source": [
    "k = 10\n",
    "N = 100\n",
    "ws = []\n",
    "for i in range(N):\n",
    "    ws.append(np.random.multivariate_normal(np.zeros(k), np.eye(k), 1))\n",
    "W = np.vstack(ws)"
   ]
  },
  {
   "cell_type": "code",
   "execution_count": 6,
   "metadata": {},
   "outputs": [],
   "source": [
    "F = np.random.rand(k, k)\n",
    "X = np.matmul(F, W.T).T"
   ]
  },
  {
   "cell_type": "code",
   "execution_count": 7,
   "metadata": {},
   "outputs": [],
   "source": [
    "Xtrain = X[:80, :]\n",
    "Xtest = X[80:, :]"
   ]
  },
  {
   "cell_type": "code",
   "execution_count": 8,
   "metadata": {},
   "outputs": [],
   "source": [
    "Sigma = np.matmul(F, F.T)"
   ]
  },
  {
   "cell_type": "code",
   "execution_count": 9,
   "metadata": {},
   "outputs": [],
   "source": [
    "Sigmahat = 1/80. * np.sum(np.array([np.outer(X[i, :], X[i, :]) for i in range(80)]), axis=0)"
   ]
  },
  {
   "cell_type": "code",
   "execution_count": 11,
   "metadata": {},
   "outputs": [
    {
     "name": "stdout",
     "output_type": "stream",
     "text": [
      "Error 2.9048333439831096\n"
     ]
    },
    {
     "data": {
      "image/png": "[encoded data removed]",
      "text/plain": [
       "<Figure size 432x288 with 1 Axes>"
      ]
     },
     "metadata": {
      "needs_background": "light"
     },
     "output_type": "display_data"
    },
    {
     "data": {
      "image/png": "[encoded data removed]",
      "text/plain": [
       "<Figure size 432x288 with 1 Axes>"
      ]
     },
     "metadata": {
      "needs_background": "light"
     },
     "output_type": "display_data"
    }
   ],
   "source": [
    "plt.imshow(Sigma)\n",
    "plt.figure()\n",
    "plt.imshow(Sigmahat)\n",
    "print(f\"Error {np.linalg.norm(Sigma - Sigmahat)}\")"
   ]
  },
  {
   "cell_type": "code",
   "execution_count": 22,
   "metadata": {},
   "outputs": [],
   "source": [
    "def liftsingle(x, order=2):\n",
    "    return np.array([x**i for i in range(1,order+1)])\n",
    "\n",
    "def lift(x, order=2):\n",
    "    return np.concatenate([liftsingle(y, order=order) for y in x])"
   ]
  },
  {
   "cell_type": "code",
   "execution_count": 23,
   "metadata": {},
   "outputs": [
    {
     "data": {
      "text/plain": [
       "array([-1.8817845 ,  3.5411129 , -1.80677733,  3.26444431, -1.02984097,\n",
       "        1.06057243, -0.74030075,  0.54804521, -1.95545241,  3.82379411,\n",
       "       -2.21860845,  4.92222347, -2.63327643,  6.93414475, -1.58215756,\n",
       "        2.50322254, -1.49555239,  2.23667694,  0.6252289 ,  0.39091117])"
      ]
     },
     "execution_count": 23,
     "metadata": {},
     "output_type": "execute_result"
    }
   ],
   "source": [
    "lift(X[0, :])"
   ]
  },
  {
   "cell_type": "code",
   "execution_count": 26,
   "metadata": {},
   "outputs": [],
   "source": [
    "Sigmahat = 1/80. * np.sum(np.array([np.outer(lift(X[i, :], order=5), lift(X[i, :], order=5)) for i in range(80)]), axis=0)"
   ]
  },
  {
   "cell_type": "code",
   "execution_count": 27,
   "metadata": {},
   "outputs": [
    {
     "data": {
      "text/plain": [
       "<matplotlib.image.AxesImage at 0xb1ad5e908>"
      ]
     },
     "execution_count": 27,
     "metadata": {},
     "output_type": "execute_result"
    },
    {
     "data": {
      "image/png": "[encoded data removed]",
      "text/plain": [
       "<Figure size 432x288 with 1 Axes>"
      ]
     },
     "metadata": {
      "needs_background": "light"
     },
     "output_type": "display_data"
    }
   ],
   "source": [
    "plt.imshow(Sigmahat)"
   ]
  },
  {
   "cell_type": "code",
   "execution_count": 28,
   "metadata": {},
   "outputs": [],
   "source": [
    "import scipy as sp\n",
    "import scipy.stats\n",
    "import math\n",
    "\n",
    "# Compute log likelihood of test set\n",
    "def test_likelihood(mean, covariance):\n",
    "    l = 0\n",
    "    for i in range(20):\n",
    "        x = lift(X[80+i, :], order=5)\n",
    "        l += -(1/2.)*np.matmul((x - mean).T, np.matmul(np.linalg.inv(covariance), (x - mean)))\n",
    "        l += -(1/2.)*(k * np.log(2*math.pi) + np.log(np.linalg.det(covariance)))\n",
    "    return l"
   ]
  },
  {
   "cell_type": "code",
   "execution_count": 29,
   "metadata": {},
   "outputs": [
    {
     "data": {
      "text/plain": [
       "-225309.363132749"
      ]
     },
     "execution_count": 29,
     "metadata": {},
     "output_type": "execute_result"
    }
   ],
   "source": [
    "test_likelihood(np.zeros(50), Sigmahat)"
   ]
  },
  {
   "cell_type": "code",
   "execution_count": 30,
   "metadata": {},
   "outputs": [
    {
     "name": "stdout",
     "output_type": "stream",
     "text": [
      "0:-225309.363132749\n",
      "1:-225309.363132749\n",
      "2:-225309.363132749\n",
      "3:-225309.363132749\n",
      "4:-225309.363132749\n",
      "5:-225309.363132749\n"
     ]
    }
   ],
   "source": [
    "for i in range(6):\n",
    "    shat = 1/80. * np.sum(np.array([np.outer(lift(X[i, :], order=i), lift(X[i, :], order=i)) for i in range(80)]), axis=0)\n",
    "    print(f\"{i}:{test_likelihood(np.zeros(50), shat)}\")"
   ]
  },
  {
   "cell_type": "code",
   "execution_count": null,
   "metadata": {},
   "outputs": [],
   "source": []
  }
 ],
 "metadata": {
  "kernelspec": {
   "display_name": "Python 3",
   "language": "python",
   "name": "python3"
  },
  "language_info": {
   "codemirror_mode": {
    "name": "ipython",
    "version": 3
   },
   "file_extension": ".py",
   "mimetype": "text/x-python",
   "name": "python",
   "nbconvert_exporter": "python",
   "pygments_lexer": "ipython3",
   "version": "3.6.8"
  }
 },
 "nbformat": 4,
 "nbformat_minor": 2
}
