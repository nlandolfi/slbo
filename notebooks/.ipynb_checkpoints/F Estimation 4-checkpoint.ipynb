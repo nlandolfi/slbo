{
 "cells": [
  {
   "cell_type": "code",
   "execution_count": 1,
   "metadata": {},
   "outputs": [],
   "source": [
    "import numpy as np\n",
    "import cvxpy as cp\n",
    "import matplotlib.pyplot as plt\n",
    "np.random.seed(11) # previous used 11, 12, 13"
   ]
  },
  {
   "cell_type": "code",
   "execution_count": 2,
   "metadata": {},
   "outputs": [],
   "source": [
    "# theta is [1, 2, 3]\n",
    "def ARMA(phi, theta, basewhite, initial_conditions, mu=0.0):\n",
    "    out = initial_conditions.tolist().copy()\n",
    "    ARorder = len(phi)\n",
    "    MAorder = len(theta)\n",
    "    for i in range(MAorder, len(basewhite)):\n",
    "        val = mu + np.dot(np.array(theta), basewhite[i-MAorder:i]) \n",
    "        if len(phi) > 0:\n",
    "              val += np.dot(np.array(phi), out[-ARorder:])\n",
    "        out.append(val)\n",
    "    return np.asarray(out[len(initial_conditions):])"
   ]
  },
  {
   "cell_type": "code",
   "execution_count": 3,
   "metadata": {},
   "outputs": [],
   "source": [
    "def imputequick(S, xmatch, K):\n",
    "    d = S.shape[0]\n",
    "    sk = set(K)\n",
    "    xa = np.zeros(len(K))\n",
    "    s = 0\n",
    "    for i in K:\n",
    "        xa[s] = xmatch[i]\n",
    "        s += 1\n",
    "    SAA = np.zeros((len(K), len(K)))\n",
    "    SBA = np.zeros((d-len(K), len(K)))\n",
    "    \n",
    "    s = 0\n",
    "    for i in K:\n",
    "        t = 0\n",
    "        for j in K:\n",
    "            SAA[s, t] = S[i, j]\n",
    "            t += 1\n",
    "        s += 1\n",
    "    \n",
    "    U = []\n",
    "    for i in range(d):\n",
    "        if i not in sk:\n",
    "            U.append(i)\n",
    "        \n",
    "    s = 0\n",
    "    for i in U:\n",
    "        t = 0\n",
    "        for j in K:\n",
    "            SBA[s, t] = S[i, j]\n",
    "            t += 1\n",
    "        s += 1\n",
    "            \n",
    "    guessb = np.matmul(SBA, np.matmul(np.linalg.inv(SAA), xa))\n",
    "    xout = np.zeros(d)\n",
    "    \n",
    "    s =0\n",
    "    for i in range(d):\n",
    "        if i in K:\n",
    "            xout[i] = xmatch[i]\n",
    "        else:\n",
    "            xout[i] = guessb[s]\n",
    "            s += 1    \n",
    "    return xout"
   ]
  },
  {
   "cell_type": "code",
   "execution_count": 4,
   "metadata": {},
   "outputs": [],
   "source": [
    "def impute(S, xmatch, K):\n",
    "    xhat = cp.Variable(S.shape[0])\n",
    "    R = np.linalg.inv(S)\n",
    "    obj = cp.quad_form(xhat, R)\n",
    "    constraints = []\n",
    "    for k in K:\n",
    "        constraints.append(xhat[k] == xmatch[k])\n",
    "    p = cp.Problem(cp.Minimize(obj), constraints)\n",
    "    p.solve()\n",
    "    return xhat.value"
   ]
  },
  {
   "cell_type": "code",
   "execution_count": 5,
   "metadata": {},
   "outputs": [],
   "source": [
    "def ints_without(k, hi):\n",
    "    out = []\n",
    "    for i in range(hi):\n",
    "        if i != k:\n",
    "            out.append(i)\n",
    "    return out"
   ]
  },
  {
   "cell_type": "code",
   "execution_count": 6,
   "metadata": {},
   "outputs": [],
   "source": [
    "def impute_nans(S, x):\n",
    "    K = []\n",
    "    for i in range(len(x)):\n",
    "        if x[i] == np.nan:\n",
    "            K.append(i)\n",
    "    return imputequick(S, x, K)"
   ]
  },
  {
   "cell_type": "code",
   "execution_count": 7,
   "metadata": {},
   "outputs": [],
   "source": [
    "def impute_err2(Xtrue, Xmasked, S):\n",
    "    n, d = Xtrue.shape\n",
    "    assert Xmasked.shape == (n, d)\n",
    "    errs = []\n",
    "    for i in range(n):\n",
    "        xtrue = Xtrue[i, :]\n",
    "        xmasked = Xmasked[i, :]\n",
    "        errs.append(np.sqrt(np.mean(np.square(xtrue - impute_nans(S, xmasked)))))\n",
    "    return errs"
   ]
  },
  {
   "cell_type": "code",
   "execution_count": 8,
   "metadata": {},
   "outputs": [],
   "source": [
    "def impute_err(X, S, verbose=False):\n",
    "    allerrs = []\n",
    "    n, d = X.shape\n",
    "    if verbose:\n",
    "        print(f\"n={n}, d={d}\")\n",
    "    for i in range(n):\n",
    "        x = X[i, :]\n",
    "        errs = []\n",
    "        for j in range(d):\n",
    "            err = x[j] - imputequick(S, x, ints_without(j, d))[j]\n",
    "            errs.append(err)\n",
    "        errs = np.array(errs)\n",
    "        allerrs.append(np.mean(np.abs(errs)))\n",
    "    if verbose:\n",
    "        print(f\"{np.mean(allerrs)}\")\n",
    "    return np.mean(allerrs)"
   ]
  },
  {
   "cell_type": "code",
   "execution_count": 9,
   "metadata": {},
   "outputs": [],
   "source": [
    "def empirical_covariance(X):\n",
    "    n = X.shape[0]\n",
    "    S = 0.\n",
    "    for i in range(n):\n",
    "        S += np.outer(X[i, :], X[i, :])\n",
    "    S = S / float(n)\n",
    "    return S"
   ]
  },
  {
   "cell_type": "code",
   "execution_count": 10,
   "metadata": {},
   "outputs": [],
   "source": [
    "def window(s, d):\n",
    "    assert d > 1\n",
    "    xs = []\n",
    "    for i in range(d, len(s)-d):\n",
    "        xs.append(s[i:i+d])\n",
    "    return np.stack(xs)"
   ]
  },
  {
   "cell_type": "code",
   "execution_count": 11,
   "metadata": {},
   "outputs": [],
   "source": [
    "def empirical_covariance(X):\n",
    "    n = X.shape[0]\n",
    "    S = 0.\n",
    "    for i in range(n):\n",
    "        S += np.outer(X[i, :], X[i, :])\n",
    "    S = S / float(n)\n",
    "    return S"
   ]
  },
  {
   "cell_type": "code",
   "execution_count": 12,
   "metadata": {},
   "outputs": [],
   "source": [
    "def impute_errors(series, order, verbose=False, plotseries=False):\n",
    "    testsamples = int(len(series) * .2)\n",
    "    Trainpart = series[:-testsamples]\n",
    "    Testpart = series[-testsamples:]\n",
    "    if plotseries:\n",
    "        plt.stem(np.arange(len(Trainpart)), Trainpart, markerfmt='bo', linefmt='b-')\n",
    "        plt.stem(np.arange(len(Trainpart), len(Trainpart) + len(Testpart)), Testpart, markerfmt='ro', linefmt='r-')\n",
    "    train_windows = [window(Trainpart, d) for d in range(2, order)]\n",
    "    test_windows = [window(Testpart, d) for d in range(2, order)]\n",
    "    Ss = [empirical_covariance(train_windows[i-2]) for i in range(2, order)]\n",
    "    impute_errs = [impute_err(test_windows[i-2], Ss[i-2], verbose=verbose) for i in range(2, order)]\n",
    "    return Ss, impute_errs"
   ]
  },
  {
   "cell_type": "code",
   "execution_count": 13,
   "metadata": {},
   "outputs": [],
   "source": [
    "def find_best_err(impute_errs, ax=None, verbose=False, ylimmax=1.0):\n",
    "    if ax is None:\n",
    "        fig, ax = plt.subplots()\n",
    "    if verbose:\n",
    "        print(f\"Minimum of {np.min(impute_errs)} at d = {np.argmin(impute_errs)+2}\")\n",
    "    ax.scatter(np.argmin(impute_errs)+2, np.min(impute_errs), color='red', s=30, label=\"min\")\n",
    "    ax.plot([i for i in range(2, len(impute_errs)+2)], impute_errs, label=\"errs\")\n",
    "    ax.set_ylabel(\"imputation error\")\n",
    "    ax.set_xlabel(\"window size\")\n",
    "    ax.set_ylim(0, ylimmax)\n",
    "    ax.legend()"
   ]
  },
  {
   "cell_type": "code",
   "execution_count": 14,
   "metadata": {},
   "outputs": [
    {
     "data": {
      "image/png": "[encoded data removed]",
      "text/plain": [
       "<Figure size 432x288 with 1 Axes>"
      ]
     },
     "metadata": {
      "needs_background": "light"
     },
     "output_type": "display_data"
    }
   ],
   "source": [
    "Ss, errs = impute_errors(ARMA([-0.5, 0., 0., .8], [0.5, 0.5, 0.5, -0.5], np.random.normal(size=(100)), np.zeros(4)), 10, plotseries=True)"
   ]
  },
  {
   "cell_type": "code",
   "execution_count": 15,
   "metadata": {},
   "outputs": [
    {
     "data": {
      "image/png": "[encoded data removed]",
      "text/plain": [
       "<Figure size 432x288 with 2 Axes>"
      ]
     },
     "metadata": {
      "needs_background": "light"
     },
     "output_type": "display_data"
    },
    {
     "data": {
      "image/png": "[encoded data removed]",
      "text/plain": [
       "<Figure size 432x288 with 2 Axes>"
      ]
     },
     "metadata": {
      "needs_background": "light"
     },
     "output_type": "display_data"
    },
    {
     "data": {
      "image/png": "[encoded data removed]",
      "text/plain": [
       "<Figure size 432x288 with 2 Axes>"
      ]
     },
     "metadata": {
      "needs_background": "light"
     },
     "output_type": "display_data"
    },
    {
     "data": {
      "image/png": "[encoded data removed]",
      "text/plain": [
       "<Figure size 432x288 with 2 Axes>"
      ]
     },
     "metadata": {
      "needs_background": "light"
     },
     "output_type": "display_data"
    },
    {
     "data": {
      "image/png": "[encoded data removed]",
      "text/plain": [
       "<Figure size 432x288 with 2 Axes>"
      ]
     },
     "metadata": {
      "needs_background": "light"
     },
     "output_type": "display_data"
    },
    {
     "data": {
      "image/png": "[encoded data removed]",
      "text/plain": [
       "<Figure size 432x288 with 2 Axes>"
      ]
     },
     "metadata": {
      "needs_background": "light"
     },
     "output_type": "display_data"
    },
    {
     "data": {
      "image/png": "[encoded data removed]",
      "text/plain": [
       "<Figure size 432x288 with 2 Axes>"
      ]
     },
     "metadata": {
      "needs_background": "light"
     },
     "output_type": "display_data"
    },
    {
     "data": {
      "image/png": "[encoded data removed]",
      "text/plain": [
       "<Figure size 432x288 with 2 Axes>"
      ]
     },
     "metadata": {
      "needs_background": "light"
     },
     "output_type": "display_data"
    },
    {
     "data": {
      "text/plain": [
       "<Figure size 432x288 with 0 Axes>"
      ]
     },
     "metadata": {},
     "output_type": "display_data"
    }
   ],
   "source": [
    "for (d, S) in zip(np.arange(2, 10), Ss):\n",
    "    plt.imshow(S, vmin=-15.0, vmax=15.0)\n",
    "    plt.colorbar()\n",
    "    plt.yticks(np.arange(d))\n",
    "    plt.figure()"
   ]
  },
  {
   "cell_type": "code",
   "execution_count": 16,
   "metadata": {
    "scrolled": true
   },
   "outputs": [
    {
     "data": {
      "image/png": "[encoded data removed]",
      "text/plain": [
       "<Figure size 432x288 with 1 Axes>"
      ]
     },
     "metadata": {
      "needs_background": "light"
     },
     "output_type": "display_data"
    }
   ],
   "source": [
    "find_best_err(errs, ylimmax=15.0)"
   ]
  },
  {
   "cell_type": "code",
   "execution_count": 17,
   "metadata": {},
   "outputs": [],
   "source": [
    "ma3series = ARMA([0.3, 0.2], [0.5, 0.5, 0.5], np.random.normal(size=(10000)), np.array([0., 0.]))\n",
    "ma3seriestest = ARMA([0.3, 0.2], [0.5, 0.5, 0.5], np.random.normal(size=(1000)), np.array([0., 0.]))"
   ]
  },
  {
   "cell_type": "code",
   "execution_count": 18,
   "metadata": {},
   "outputs": [
    {
     "data": {
      "text/plain": [
       "array([[1.4753131 , 1.22576927],\n",
       "       [1.22576927, 1.47519794]])"
      ]
     },
     "execution_count": 18,
     "metadata": {},
     "output_type": "execute_result"
    }
   ],
   "source": [
    "S2 = empirical_covariance(window(ma3series, 2))\n",
    "S2"
   ]
  },
  {
   "cell_type": "code",
   "execution_count": 19,
   "metadata": {},
   "outputs": [
    {
     "data": {
      "text/plain": [
       "array([[1.47549034, 1.22596406, 0.95913461],\n",
       "       [1.22596406, 1.4754715 , 1.22596422],\n",
       "       [0.95913461, 1.22596422, 1.47547168]])"
      ]
     },
     "execution_count": 19,
     "metadata": {},
     "output_type": "execute_result"
    }
   ],
   "source": [
    "S3 = empirical_covariance(window(ma3series, 3))\n",
    "S3"
   ]
  },
  {
   "cell_type": "code",
   "execution_count": 20,
   "metadata": {},
   "outputs": [
    {
     "data": {
      "text/plain": [
       "array([[1.47569971, 1.22622222, 0.95936488, 0.5831052 ],\n",
       "       [1.22622222, 1.47576419, 1.22620987, 0.95936395],\n",
       "       [0.95936488, 1.22620987, 1.47571087, 1.22605191],\n",
       "       [0.5831052 , 0.95936395, 1.22605191, 1.4752618 ]])"
      ]
     },
     "execution_count": 20,
     "metadata": {},
     "output_type": "execute_result"
    }
   ],
   "source": [
    "S4 = empirical_covariance(window(ma3series, 4))\n",
    "S4"
   ]
  },
  {
   "cell_type": "code",
   "execution_count": 21,
   "metadata": {},
   "outputs": [
    {
     "data": {
      "text/plain": [
       "array([[1.47594982, 1.22641457, 0.95957065, 0.58322803, 0.42171586],\n",
       "       [1.22641457, 1.47593917, 1.22630998, 0.95936278, 0.58298467],\n",
       "       [0.95957065, 1.22630998, 1.47555433, 1.22573965, 0.95867851],\n",
       "       [0.58322803, 0.95936278, 1.22573965, 1.47486641, 1.22489632],\n",
       "       [0.42171586, 0.58298467, 0.95867851, 1.22489632, 1.47383509]])"
      ]
     },
     "execution_count": 21,
     "metadata": {},
     "output_type": "execute_result"
    }
   ],
   "source": [
    "S5 = empirical_covariance(window(ma3series, 5))\n",
    "S5"
   ]
  },
  {
   "cell_type": "code",
   "execution_count": 22,
   "metadata": {},
   "outputs": [],
   "source": [
    "ma3seriestestmasked = ma3seriestest.copy()\n",
    "for i in range(len(ma3seriestestmasked)):\n",
    "    if i % 2 == 0:\n",
    "        ma3seriestestmasked[i] = np.nan\n",
    "    continue\n",
    "    coinflip = np.random.randint(2)\n",
    "    if coinflip == 1:\n",
    "        ma3seriestestmasked[i] = np.nan"
   ]
  },
  {
   "cell_type": "code",
   "execution_count": 23,
   "metadata": {},
   "outputs": [
    {
     "data": {
      "text/plain": [
       "0.5459921779731717"
      ]
     },
     "execution_count": 23,
     "metadata": {},
     "output_type": "execute_result"
    }
   ],
   "source": [
    "impute_err(window(ma3seriestest, 2), S2)"
   ]
  },
  {
   "cell_type": "code",
   "execution_count": 24,
   "metadata": {},
   "outputs": [
    {
     "data": {
      "text/plain": [
       "0.9596912759611421"
      ]
     },
     "execution_count": 24,
     "metadata": {},
     "output_type": "execute_result"
    }
   ],
   "source": [
    "errs2 = impute_err2(window(ma3seriestest, 2), window(ma3seriestestmasked, 2), S2)\n",
    "np.mean(errs2)"
   ]
  },
  {
   "cell_type": "code",
   "execution_count": 25,
   "metadata": {},
   "outputs": [
    {
     "data": {
      "text/plain": [
       "(array([131., 237., 231., 148., 103.,  77.,  33.,  16.,  12.,   5.]),\n",
       " array([0.01544332, 0.34101698, 0.66659065, 0.99216432, 1.31773799,\n",
       "        1.64331165, 1.96888532, 2.29445899, 2.62003265, 2.94560632,\n",
       "        3.27117999]),\n",
       " <a list of 10 Patch objects>)"
      ]
     },
     "execution_count": 25,
     "metadata": {},
     "output_type": "execute_result"
    },
    {
     "data": {
      "image/png": "[encoded data removed]",
      "text/plain": [
       "<Figure size 432x288 with 1 Axes>"
      ]
     },
     "metadata": {
      "needs_background": "light"
     },
     "output_type": "display_data"
    }
   ],
   "source": [
    "plt.hist(errs2)"
   ]
  },
  {
   "cell_type": "code",
   "execution_count": 26,
   "metadata": {},
   "outputs": [
    {
     "data": {
      "text/plain": [
       "0.4957674147836781"
      ]
     },
     "execution_count": 26,
     "metadata": {},
     "output_type": "execute_result"
    }
   ],
   "source": [
    "impute_err(window(ma3seriestest, 3), S3)"
   ]
  },
  {
   "cell_type": "code",
   "execution_count": 27,
   "metadata": {},
   "outputs": [
    {
     "data": {
      "text/plain": [
       "0.9879526941521916"
      ]
     },
     "execution_count": 27,
     "metadata": {},
     "output_type": "execute_result"
    }
   ],
   "source": [
    "errs3 = impute_err2(window(ma3seriestest, 3), window(ma3seriestestmasked, 3), S3)\n",
    "np.mean(errs3)"
   ]
  },
  {
   "cell_type": "code",
   "execution_count": null,
   "metadata": {},
   "outputs": [],
   "source": []
  },
  {
   "cell_type": "code",
   "execution_count": 28,
   "metadata": {},
   "outputs": [
    {
     "data": {
      "text/plain": [
       "0.45179136052103847"
      ]
     },
     "execution_count": 28,
     "metadata": {},
     "output_type": "execute_result"
    }
   ],
   "source": [
    "impute_err(window(ma3seriestest, 4), S4)"
   ]
  },
  {
   "cell_type": "code",
   "execution_count": 29,
   "metadata": {},
   "outputs": [
    {
     "data": {
      "text/plain": [
       "1.0069830551810297"
      ]
     },
     "execution_count": 29,
     "metadata": {},
     "output_type": "execute_result"
    }
   ],
   "source": [
    "errs4 = impute_err2(window(ma3seriestest, 4), window(ma3seriestestmasked, 4), S4)\n",
    "np.mean(errs4)"
   ]
  },
  {
   "cell_type": "code",
   "execution_count": 30,
   "metadata": {},
   "outputs": [
    {
     "data": {
      "text/plain": [
       "(array([ 80., 212., 251., 183., 135.,  53.,  46.,  17.,   7.,   5.]),\n",
       " array([0.09256318, 0.38813766, 0.68371214, 0.97928662, 1.2748611 ,\n",
       "        1.57043558, 1.86601006, 2.16158454, 2.45715902, 2.7527335 ,\n",
       "        3.04830798]),\n",
       " <a list of 10 Patch objects>)"
      ]
     },
     "execution_count": 30,
     "metadata": {},
     "output_type": "execute_result"
    },
    {
     "data": {
      "image/png": "[encoded data removed]",
      "text/plain": [
       "<Figure size 432x288 with 1 Axes>"
      ]
     },
     "metadata": {
      "needs_background": "light"
     },
     "output_type": "display_data"
    }
   ],
   "source": [
    "plt.hist(errs4)"
   ]
  },
  {
   "cell_type": "code",
   "execution_count": 31,
   "metadata": {},
   "outputs": [
    {
     "data": {
      "text/plain": [
       "0.4070707619811625"
      ]
     },
     "execution_count": 31,
     "metadata": {},
     "output_type": "execute_result"
    }
   ],
   "source": [
    "impute_err(window(ma3seriestest, 5), S5)"
   ]
  },
  {
   "cell_type": "code",
   "execution_count": 32,
   "metadata": {},
   "outputs": [
    {
     "data": {
      "text/plain": [
       "1.0211307024506164"
      ]
     },
     "execution_count": 32,
     "metadata": {},
     "output_type": "execute_result"
    }
   ],
   "source": [
    "errs5 = impute_err2(window(ma3seriestest, 5), window(ma3seriestestmasked, 5), S5)\n",
    "np.mean(errs5)"
   ]
  },
  {
   "cell_type": "code",
   "execution_count": 33,
   "metadata": {},
   "outputs": [],
   "source": [
    "Ss = [empirical_covariance(window(ma3series, d)) for d in range(2, 5)]"
   ]
  },
  {
   "cell_type": "code",
   "execution_count": 34,
   "metadata": {},
   "outputs": [],
   "source": [
    "imperrs = [impute_err(window(ma3seriestest, d), Ss[d-2]) for d in range(2, 5)]\n",
    "imp2errs = [np.mean(impute_err2(window(ma3seriestest, d), window(ma3seriestestmasked, d), Ss[d-2])) for d in range(2, 5)]"
   ]
  },
  {
   "cell_type": "code",
   "execution_count": 35,
   "metadata": {},
   "outputs": [
    {
     "data": {
      "text/plain": [
       "[<matplotlib.lines.Line2D at 0xb1cf35630>]"
      ]
     },
     "execution_count": 35,
     "metadata": {},
     "output_type": "execute_result"
    },
    {
     "data": {
      "image/png": "[encoded data removed]",
      "text/plain": [
       "<Figure size 432x288 with 1 Axes>"
      ]
     },
     "metadata": {
      "needs_background": "light"
     },
     "output_type": "display_data"
    }
   ],
   "source": [
    "plt.plot(np.arange(2, 5), imp2errs)\n",
    "plt.plot(np.arange(2, 5), imperrs)"
   ]
  },
  {
   "cell_type": "code",
   "execution_count": null,
   "metadata": {},
   "outputs": [],
   "source": [
    "plt.plot(ma3seriestestmasked)"
   ]
  },
  {
   "cell_type": "code",
   "execution_count": 49,
   "metadata": {},
   "outputs": [],
   "source": [
    "def impute_constant(rep, xmatch, K):\n",
    "    out = rep.copy()\n",
    "    for i in K:\n",
    "        out[i] = xmatch[k]\n",
    "    return out"
   ]
  },
  {
   "cell_type": "code",
   "execution_count": 50,
   "metadata": {},
   "outputs": [],
   "source": [
    "def impute_nans_constant(rep, x):\n",
    "    K = []\n",
    "    for i in range(len(x)):\n",
    "        if x[i] == np.nan:\n",
    "            K.append(i)\n",
    "    return impute_constant(rep, x, K)"
   ]
  },
  {
   "cell_type": "code",
   "execution_count": 51,
   "metadata": {},
   "outputs": [],
   "source": [
    "def impute_constant_err(Xtrue, Xmasked, rep):\n",
    "    n, d = Xtrue.shape\n",
    "    assert Xmasked.shape == (n, d)\n",
    "    errs = []\n",
    "    for i in range(n):\n",
    "        xtrue = Xtrue[i, :]\n",
    "        xmasked = Xmasked[i, :]\n",
    "        errs.append(np.sqrt(np.mean(np.square(xtrue - impute_nans_constant(rep, xmasked)))))\n",
    "    return errs"
   ]
  },
  {
   "cell_type": "code",
   "execution_count": 193,
   "metadata": {},
   "outputs": [],
   "source": [
    "def impute_kmeans(thetas, xmatch, K):\n",
    "    nmeans = thetas.shape[1]\n",
    "    theta = thetas[:, np.argmin([np.sum(np.square([thetas[:, i][k] - xmatch[k] for k in K])) for i in range(nmeans)])]\n",
    "    out = theta.copy()\n",
    "    for i in K:\n",
    "        out[i] = xmatch[i]\n",
    "    return out"
   ]
  },
  {
   "cell_type": "code",
   "execution_count": 186,
   "metadata": {},
   "outputs": [],
   "source": [
    "def impute_nans_kmeans(thetas, x):\n",
    "    K = []\n",
    "    for i in range(len(x)):\n",
    "        if x[i] == np.nan:\n",
    "            K.append(i)\n",
    "    return impute_kmeans(thetas, x, K)"
   ]
  },
  {
   "cell_type": "code",
   "execution_count": 189,
   "metadata": {},
   "outputs": [],
   "source": [
    "def impute_kmeans_err(Xtrue, Xmasked, thetas):\n",
    "    n, d = Xtrue.shape\n",
    "    assert Xmasked.shape == (n, d)\n",
    "    errs = []\n",
    "    for i in range(n):\n",
    "        xtrue = Xtrue[i, :]\n",
    "        xmasked = Xmasked[i, :]\n",
    "        errs.append(np.sqrt(np.mean(np.square(xtrue - impute_nans_kmeans(thetas, xmasked)))))\n",
    "    return errs"
   ]
  },
  {
   "cell_type": "code",
   "execution_count": 63,
   "metadata": {},
   "outputs": [],
   "source": [
    "meanerrs = [impute_constant_err(\n",
    "    window(ma3seriestest, d), \n",
    "    window(ma3seriestestmasked, d), \n",
    "    np.mean(window(ma3seriestest, d), axis=0)\n",
    ") for d in range(2, 5)]"
   ]
  },
  {
   "cell_type": "code",
   "execution_count": 64,
   "metadata": {},
   "outputs": [],
   "source": [
    "mederrs = [impute_constant_err(\n",
    "    window(ma3seriestest, d), \n",
    "    window(ma3seriestestmasked, d), \n",
    "    np.median(window(ma3seriestest, d), axis=0)\n",
    ") for d in range(2, 5)]"
   ]
  },
  {
   "cell_type": "code",
   "execution_count": null,
   "metadata": {},
   "outputs": [],
   "source": [
    "mederrs = [impute_constant_err(\n",
    "    window(ma3seriestest, d), \n",
    "    window(ma3seriestestmasked, d), \n",
    "    np.median(window(ma3seriestest, d), axis=0)\n",
    ") for d in range(2, 5)]"
   ]
  },
  {
   "cell_type": "code",
   "execution_count": 166,
   "metadata": {},
   "outputs": [],
   "source": [
    "def k_means(X, k, iters=20):\n",
    "    n, d = X.shape\n",
    "    c = np.random.randint(k, size=n)\n",
    "    thetas = np.zeros((d, k))\n",
    "    losses = []\n",
    "    for i in range(iters):\n",
    "        for j in range(k):\n",
    "            thetas[:, j] = np.mean(X[c == j], axis=0)\n",
    "        mindiffs = []\n",
    "        for l in range(n):\n",
    "            diffs = [np.linalg.norm(X[l, :] - thetas[:, j]) for j in range(k)]\n",
    "            mindiff, minindex = np.min(diffs), np.argmin(diffs)\n",
    "            c[l] = minindex\n",
    "            mindiffs.append(mindiff)\n",
    "        losses.append(np.mean(mindiffs))\n",
    "    return (c, thetas, losses)"
   ]
  },
  {
   "cell_type": "code",
   "execution_count": 172,
   "metadata": {},
   "outputs": [
    {
     "data": {
      "text/plain": [
       "[<matplotlib.lines.Line2D at 0xb21ff9908>]"
      ]
     },
     "execution_count": 172,
     "metadata": {},
     "output_type": "execute_result"
    },
    {
     "data": {
      "image/png": "[encoded data removed]",
      "text/plain": [
       "<Figure size 432x288 with 1 Axes>"
      ]
     },
     "metadata": {
      "needs_background": "light"
     },
     "output_type": "display_data"
    }
   ],
   "source": [
    "c, thetas, loss = k_means(window(ma3seriestest, 10), 2, iters=10)\n",
    "plt.plot(np.arange(1, 1+10), loss)"
   ]
  },
  {
   "cell_type": "code",
   "execution_count": 213,
   "metadata": {},
   "outputs": [
    {
     "name": "stdout",
     "output_type": "stream",
     "text": [
      "2 2\n",
      "2 3\n",
      "2 4\n",
      "2 5\n",
      "2 6\n",
      "3 2\n",
      "3 3\n",
      "3 4\n",
      "3 5\n",
      "3 6\n",
      "4 2\n",
      "4 3\n",
      "4 4\n",
      "4 5\n",
      "4 6\n",
      "5 2\n",
      "5 3\n",
      "5 4\n",
      "5 5\n",
      "5 6\n",
      "6 2\n",
      "6 3\n",
      "6 4\n",
      "6 5\n",
      "6 6\n"
     ]
    }
   ],
   "source": [
    "L = np.zeros((5, 5))\n",
    "E = np.zeros((5, 5))\n",
    "for d in range(2, 2+E.shape[0]):\n",
    "    for k in range(2, 2+E.shape[1]):\n",
    "        print(d, k)\n",
    "        c, thetas, loss = k_means(window(ma3series, d), k, iters=5)\n",
    "        L[d-2, k-2] = loss[-1]\n",
    "        ierrs = impute_kmeans_err(window(ma3seriestest, d), window(ma3seriestestmasked, d), thetas)\n",
    "        E[d-2, k-2] = np.mean(ierrs)"
   ]
  },
  {
   "cell_type": "code",
   "execution_count": 236,
   "metadata": {},
   "outputs": [],
   "source": [
    "class Model(object):\n",
    "    def __init__(self, d):\n",
    "        self.d = d\n",
    "        \n",
    "class CovarianceModel(Model):\n",
    "    def __init__(self, d):\n",
    "        super().__init__(d)\n",
    "        self.S = None\n",
    "        \n",
    "    def train(self, Xtrain):\n",
    "        assert Xtrain.shape[1] == self.d\n",
    "        self.S = empirical_covariance(Xtrain)\n",
    "        \n",
    "    def impute(self, x, K):\n",
    "        return imputequick(self.S, x, K)\n",
    "\n",
    "class L2ConstantModel(Model):\n",
    "    def __init__(self, d):\n",
    "        super().__init__(d)\n",
    "        self.theta = None\n",
    "        \n",
    "    def train(self, Xtrain):\n",
    "        assert Xtrain.shape[1] == self.d\n",
    "        self.theta = np.mean(Xtrain, axis=0)\n",
    "    \n",
    "    def impute(self, x, K):\n",
    "        return impute_constant(x, K, self.theta)\n",
    "    \n",
    "class L1ConstantModel(Model):\n",
    "    def __init__(self, d):\n",
    "        super().__init__(d)\n",
    "        self.theta = None\n",
    "        \n",
    "    def train(self, Xtrain):\n",
    "        assert Xtrain.shape[1] == self.d\n",
    "        self.theta = np.median(Xtrain, axis=0)\n",
    "    \n",
    "    def impute(self, x, K):\n",
    "        return impute_constant(x, K, self.theta)\n",
    "    \n",
    "class KMeansModel(Model):\n",
    "    def __init__(self, d, k):\n",
    "        super().__init__(d)\n",
    "        self.k = k\n",
    "        self.thetas = None\n",
    "        \n",
    "    def train(self, Xtrain):\n",
    "        assert Xtrain.shape[1] == self.d\n",
    "        c, thetas, losses = k_means(Xtrain, self.k)\n",
    "        self.thetas = thetas\n",
    "        \n",
    "    def impute(self, x, K):\n",
    "        return impute_kmeans(self.thetas, x, K)"
   ]
  },
  {
   "cell_type": "code",
   "execution_count": 239,
   "metadata": {},
   "outputs": [],
   "source": [
    "cm = CovarianceModel(3)\n",
    "l1m = L1ConstantModel(3)\n",
    "l2m = L2ConstantModel(3)\n",
    "km3 = KMeansModel(3, 3)\n",
    "models = [cm, l1m, l2m, km3]"
   ]
  },
  {
   "cell_type": "code",
   "execution_count": 240,
   "metadata": {},
   "outputs": [
    {
     "ename": "AssertionError",
     "evalue": "",
     "output_type": "error",
     "traceback": [
      "\u001b[0;31m---------------------------------------------------------------------------\u001b[0m",
      "\u001b[0;31mAssertionError\u001b[0m                            Traceback (most recent call last)",
      "\u001b[0;32m<ipython-input-240-fb5af068b7d7>\u001b[0m in \u001b[0;36m<module>\u001b[0;34m\u001b[0m\n\u001b[1;32m      1\u001b[0m \u001b[0;32mfor\u001b[0m \u001b[0mm\u001b[0m \u001b[0;32min\u001b[0m \u001b[0mmodels\u001b[0m\u001b[0;34m:\u001b[0m\u001b[0;34m\u001b[0m\u001b[0;34m\u001b[0m\u001b[0m\n\u001b[0;32m----> 2\u001b[0;31m     \u001b[0mm\u001b[0m\u001b[0;34m.\u001b[0m\u001b[0mtrain\u001b[0m\u001b[0;34m(\u001b[0m\u001b[0mwindow\u001b[0m\u001b[0;34m(\u001b[0m\u001b[0mma3series\u001b[0m\u001b[0;34m,\u001b[0m \u001b[0;36m3\u001b[0m\u001b[0;34m)\u001b[0m\u001b[0;34m)\u001b[0m\u001b[0;34m\u001b[0m\u001b[0;34m\u001b[0m\u001b[0m\n\u001b[0m",
      "\u001b[0;32m<ipython-input-236-1b7f3ad41e06>\u001b[0m in \u001b[0;36mtrain\u001b[0;34m(self, Xtrain)\u001b[0m\n\u001b[1;32m      9\u001b[0m \u001b[0;34m\u001b[0m\u001b[0m\n\u001b[1;32m     10\u001b[0m     \u001b[0;32mdef\u001b[0m \u001b[0mtrain\u001b[0m\u001b[0;34m(\u001b[0m\u001b[0mself\u001b[0m\u001b[0;34m,\u001b[0m \u001b[0mXtrain\u001b[0m\u001b[0;34m)\u001b[0m\u001b[0;34m:\u001b[0m\u001b[0;34m\u001b[0m\u001b[0;34m\u001b[0m\u001b[0m\n\u001b[0;32m---> 11\u001b[0;31m         \u001b[0;32massert\u001b[0m \u001b[0mXtrain\u001b[0m\u001b[0;34m.\u001b[0m\u001b[0mshape\u001b[0m\u001b[0;34m[\u001b[0m\u001b[0;36m1\u001b[0m\u001b[0;34m]\u001b[0m \u001b[0;34m==\u001b[0m \u001b[0md\u001b[0m\u001b[0;34m\u001b[0m\u001b[0;34m\u001b[0m\u001b[0m\n\u001b[0m\u001b[1;32m     12\u001b[0m         \u001b[0mself\u001b[0m\u001b[0;34m.\u001b[0m\u001b[0mS\u001b[0m \u001b[0;34m=\u001b[0m \u001b[0mempirical_covariance\u001b[0m\u001b[0;34m(\u001b[0m\u001b[0mXtrain\u001b[0m\u001b[0;34m)\u001b[0m\u001b[0;34m\u001b[0m\u001b[0;34m\u001b[0m\u001b[0m\n\u001b[1;32m     13\u001b[0m \u001b[0;34m\u001b[0m\u001b[0m\n",
      "\u001b[0;31mAssertionError\u001b[0m: "
     ]
    }
   ],
   "source": [
    "for m in models:\n",
    "    m.train(window(ma3series, 3))"
   ]
  },
  {
   "cell_type": "code",
   "execution_count": 222,
   "metadata": {},
   "outputs": [
    {
     "data": {
      "text/plain": [
       "1.001836301069039"
      ]
     },
     "execution_count": 222,
     "metadata": {},
     "output_type": "execute_result"
    }
   ],
   "source": [
    "E[1,1]"
   ]
  },
  {
   "cell_type": "code",
   "execution_count": 227,
   "metadata": {},
   "outputs": [
    {
     "data": {
      "text/plain": [
       "0.9879526941521916"
      ]
     },
     "execution_count": 227,
     "metadata": {},
     "output_type": "execute_result"
    }
   ],
   "source": [
    "np.mean(impute_err2(window(ma3seriestest, 3), window(ma3seriestestmasked, 3), empirical_covariance(window(ma3series, 3))))"
   ]
  },
  {
   "cell_type": "code",
   "execution_count": 228,
   "metadata": {},
   "outputs": [
    {
     "data": {
      "text/plain": [
       "0.9879666420525309"
      ]
     },
     "execution_count": 228,
     "metadata": {},
     "output_type": "execute_result"
    }
   ],
   "source": [
    "np.mean(impute_constant_err(window(ma3seriestest, 3), window(ma3seriestestmasked, 3), np.mean(\n",
    "    ma3series, axis=0\n",
    ")))"
   ]
  },
  {
   "cell_type": "code",
   "execution_count": null,
   "metadata": {},
   "outputs": [],
   "source": [
    "x = Xtest[0, :]\n",
    "impute_constant()"
   ]
  },
  {
   "cell_type": "code",
   "execution_count": 208,
   "metadata": {},
   "outputs": [
    {
     "data": {
      "text/plain": [
       "array([[nan, nan, nan, nan, nan, nan, nan, nan, nan, nan],\n",
       "       [nan, nan, nan, nan, nan, nan, nan, nan, nan, nan],\n",
       "       [nan, nan, nan, nan, nan, nan, nan, nan, nan, nan],\n",
       "       [nan, nan, nan, nan, nan, nan, nan, nan, nan, nan],\n",
       "       [nan, nan, nan, nan, nan, nan, nan, nan, nan, nan],\n",
       "       [nan, nan, nan, nan, nan, nan, nan, nan, nan, nan],\n",
       "       [nan, nan, nan, nan, nan, nan, nan, nan, nan, nan],\n",
       "       [nan, nan, nan, nan, nan, nan, nan, nan, nan, nan],\n",
       "       [nan, nan, nan, nan, nan, nan, nan, nan, nan, nan],\n",
       "       [nan, nan, nan, nan, nan, nan, nan, nan, nan, nan]])"
      ]
     },
     "execution_count": 208,
     "metadata": {},
     "output_type": "execute_result"
    }
   ],
   "source": [
    "E"
   ]
  },
  {
   "cell_type": "code",
   "execution_count": 198,
   "metadata": {},
   "outputs": [
    {
     "name": "stderr",
     "output_type": "stream",
     "text": [
      "/Users/Nick/miniconda3/envs/cvx/lib/python3.6/site-packages/numpy/core/fromnumeric.py:2920: RuntimeWarning: Mean of empty slice.\n",
      "  out=out, **kwargs)\n",
      "/Users/Nick/miniconda3/envs/cvx/lib/python3.6/site-packages/numpy/core/_methods.py:78: RuntimeWarning: invalid value encountered in true_divide\n",
      "  ret, rcount, out=ret, casting='unsafe', subok=False)\n",
      "/Users/Nick/miniconda3/envs/cvx/lib/python3.6/site-packages/numpy/core/fromnumeric.py:83: RuntimeWarning: invalid value encountered in reduce\n",
      "  return ufunc.reduce(obj, axis, dtype, out, **passkwargs)\n"
     ]
    }
   ],
   "source": [
    "losses = []\n",
    "errs = []\n",
    "for k in range(2, 10):\n",
    "    c, thetas, loss = k_means(window(ma3series, 5), k, iters=5)\n",
    "    losses.append(loss[-1])\n",
    "    ierrs = impute_kmeans_err(window(ma3seriestest, 5), window(ma3seriestestmasked, 5), thetas)\n",
    "    errs.append(np.mean(ierrs))"
   ]
  },
  {
   "cell_type": "code",
   "execution_count": 199,
   "metadata": {},
   "outputs": [
    {
     "data": {
      "text/plain": [
       "[<matplotlib.lines.Line2D at 0xb224090f0>]"
      ]
     },
     "execution_count": 199,
     "metadata": {},
     "output_type": "execute_result"
    },
    {
     "data": {
      "image/png": "[encoded data removed]",
      "text/plain": [
       "<Figure size 432x288 with 1 Axes>"
      ]
     },
     "metadata": {
      "needs_background": "light"
     },
     "output_type": "display_data"
    }
   ],
   "source": [
    "plt.plot(losses)\n",
    "plt.plot(errs)"
   ]
  },
  {
   "cell_type": "code",
   "execution_count": 196,
   "metadata": {},
   "outputs": [
    {
     "data": {
      "text/plain": [
       "[<matplotlib.lines.Line2D at 0xb226e74e0>]"
      ]
     },
     "execution_count": 196,
     "metadata": {},
     "output_type": "execute_result"
    },
    {
     "data": {
      "image/png": "[encoded data removed]",
      "text/plain": [
       "<Figure size 432x288 with 1 Axes>"
      ]
     },
     "metadata": {
      "needs_background": "light"
     },
     "output_type": "display_data"
    }
   ],
   "source": [
    "plt.plot(errs)"
   ]
  },
  {
   "cell_type": "code",
   "execution_count": 183,
   "metadata": {},
   "outputs": [
    {
     "ename": "SyntaxError",
     "evalue": "invalid syntax (<ipython-input-183-cba552f88c09>, line 1)",
     "output_type": "error",
     "traceback": [
      "\u001b[0;36m  File \u001b[0;32m\"<ipython-input-183-cba552f88c09>\"\u001b[0;36m, line \u001b[0;32m1\u001b[0m\n\u001b[0;31m    errs = [impute_kmeans_err(window(ma3seriestest, 10), window(ma3seriestestmasked, 10), thetas):\u001b[0m\n\u001b[0m                                                                                                 ^\u001b[0m\n\u001b[0;31mSyntaxError\u001b[0m\u001b[0;31m:\u001b[0m invalid syntax\n"
     ]
    }
   ],
   "source": [
    "errs = [impute_kmeans_err(window(ma3seriestest, 10), window(ma3seriestestmasked, 10), thetas)"
   ]
  },
  {
   "cell_type": "code",
   "execution_count": 182,
   "metadata": {},
   "outputs": [
    {
     "data": {
      "text/plain": [
       "[<matplotlib.lines.Line2D at 0xb2240b6d8>]"
      ]
     },
     "execution_count": 182,
     "metadata": {},
     "output_type": "execute_result"
    },
    {
     "data": {
      "image/png": "[encoded data removed]",
      "text/plain": [
       "<Figure size 432x288 with 1 Axes>"
      ]
     },
     "metadata": {
      "needs_background": "light"
     },
     "output_type": "display_data"
    }
   ],
   "source": [
    "plt.plot(losses)"
   ]
  },
  {
   "cell_type": "code",
   "execution_count": 175,
   "metadata": {},
   "outputs": [
    {
     "data": {
      "text/plain": [
       "<StemContainer object of 3 artists>"
      ]
     },
     "execution_count": 175,
     "metadata": {},
     "output_type": "execute_result"
    },
    {
     "data": {
      "image/png": "[encoded data removed]",
      "text/plain": [
       "<Figure size 432x288 with 1 Axes>"
      ]
     },
     "metadata": {
      "needs_background": "light"
     },
     "output_type": "display_data"
    }
   ],
   "source": [
    "plt.stem(thetas[:, 0])"
   ]
  },
  {
   "cell_type": "code",
   "execution_count": 176,
   "metadata": {},
   "outputs": [
    {
     "data": {
      "text/plain": [
       "<StemContainer object of 3 artists>"
      ]
     },
     "execution_count": 176,
     "metadata": {},
     "output_type": "execute_result"
    },
    {
     "data": {
      "image/png": "[encoded data removed]",
      "text/plain": [
       "<Figure size 432x288 with 1 Axes>"
      ]
     },
     "metadata": {
      "needs_background": "light"
     },
     "output_type": "display_data"
    }
   ],
   "source": [
    "plt.stem(thetas[:, 1])"
   ]
  },
  {
   "cell_type": "code",
   "execution_count": 73,
   "metadata": {},
   "outputs": [
    {
     "data": {
      "text/plain": [
       "<matplotlib.legend.Legend at 0xb1db67da0>"
      ]
     },
     "execution_count": 73,
     "metadata": {},
     "output_type": "execute_result"
    },
    {
     "data": {
      "image/png": "[encoded data removed]",
      "text/plain": [
       "<Figure size 432x288 with 1 Axes>"
      ]
     },
     "metadata": {
      "needs_background": "light"
     },
     "output_type": "display_data"
    }
   ],
   "source": [
    "plt.plot(np.arange(2, 5), [np.mean(x) for x in meanerrs], label=\"mean\")\n",
    "plt.plot(np.arange(2, 5), [np.mean(x) for x in mederrs], label=\"med\")\n",
    "plt.plot(np.arange(2, 5), imp2errs, label=\"imp2\")\n",
    "plt.plot(np.arange(2, 5), imperrs, label=\"imp\")\n",
    "plt.legend()"
   ]
  },
  {
   "cell_type": "code",
   "execution_count": 52,
   "metadata": {},
   "outputs": [],
   "source": [
    "errs = impute_constant_err(\n",
    "    window(ma3seriestest, 4), \n",
    "    window(ma3seriestestmasked, 4), \n",
    "    np.mean(window(ma3seriestest, 4), axis=0)\n",
    ")"
   ]
  },
  {
   "cell_type": "code",
   "execution_count": 53,
   "metadata": {},
   "outputs": [
    {
     "data": {
      "text/plain": [
       "(array([ 93., 208., 233., 187., 136.,  60.,  40.,  20.,   7.,   5.]),\n",
       " array([0.10799333, 0.39783789, 0.68768244, 0.977527  , 1.26737156,\n",
       "        1.55721611, 1.84706067, 2.13690523, 2.42674978, 2.71659434,\n",
       "        3.0064389 ]),\n",
       " <a list of 10 Patch objects>)"
      ]
     },
     "execution_count": 53,
     "metadata": {},
     "output_type": "execute_result"
    },
    {
     "data": {
      "image/png": "[encoded data removed]",
      "text/plain": [
       "<Figure size 432x288 with 1 Axes>"
      ]
     },
     "metadata": {
      "needs_background": "light"
     },
     "output_type": "display_data"
    }
   ],
   "source": [
    "plt.hist(errs)"
   ]
  },
  {
   "cell_type": "code",
   "execution_count": 54,
   "metadata": {},
   "outputs": [
    {
     "data": {
      "text/plain": [
       "1.00783367322759"
      ]
     },
     "execution_count": 54,
     "metadata": {},
     "output_type": "execute_result"
    }
   ],
   "source": [
    "np.mean(errs)"
   ]
  },
  {
   "cell_type": "code",
   "execution_count": 57,
   "metadata": {},
   "outputs": [
    {
     "data": {
      "text/plain": [
       "1.0069830551810297"
      ]
     },
     "execution_count": 57,
     "metadata": {},
     "output_type": "execute_result"
    }
   ],
   "source": [
    "np.mean(errs4)"
   ]
  },
  {
   "cell_type": "code",
   "execution_count": null,
   "metadata": {},
   "outputs": [],
   "source": []
  }
 ],
 "metadata": {
  "kernelspec": {
   "display_name": "Python 3",
   "language": "python",
   "name": "python3"
  },
  "language_info": {
   "codemirror_mode": {
    "name": "ipython",
    "version": 3
   },
   "file_extension": ".py",
   "mimetype": "text/x-python",
   "name": "python",
   "nbconvert_exporter": "python",
   "pygments_lexer": "ipython3",
   "version": "3.6.8"
  }
 },
 "nbformat": 4,
 "nbformat_minor": 2
}
