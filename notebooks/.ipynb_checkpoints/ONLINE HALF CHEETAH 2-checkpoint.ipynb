{
 "cells": [
  {
   "cell_type": "code",
   "execution_count": 1,
   "metadata": {},
   "outputs": [],
   "source": [
    "import utils2\n",
    "import numpy as np\n",
    "import matplotlib.pyplot as plt"
   ]
  },
  {
   "cell_type": "code",
   "execution_count": 2,
   "metadata": {},
   "outputs": [
    {
     "name": "stdout",
     "output_type": "stream",
     "text": [
      "Loading log file\n",
      "scp lando@sc.stanford.edu:/tiger/u/lando/cmeta/704427/log.json /tmp/log704427.json\n"
     ]
    },
    {
     "ename": "Exception",
     "evalue": "Bad Status code",
     "output_type": "error",
     "traceback": [
      "\u001b[0;31m---------------------------------------------------------------------------\u001b[0m",
      "\u001b[0;31mException\u001b[0m                                 Traceback (most recent call last)",
      "\u001b[0;32m<ipython-input-2-f8337f443ca6>\u001b[0m in \u001b[0;36m<module>\u001b[0;34m\u001b[0m\n\u001b[0;32m----> 1\u001b[0;31m \u001b[0mdropMeanRun\u001b[0m\u001b[0;34m,\u001b[0m \u001b[0m_\u001b[0m \u001b[0;34m=\u001b[0m \u001b[0mutils2\u001b[0m\u001b[0;34m.\u001b[0m\u001b[0mload\u001b[0m\u001b[0;34m(\u001b[0m\u001b[0;36m704427\u001b[0m\u001b[0;34m,\u001b[0m \u001b[0mreload\u001b[0m\u001b[0;34m=\u001b[0m\u001b[0;32mTrue\u001b[0m\u001b[0;34m)\u001b[0m\u001b[0;34m\u001b[0m\u001b[0;34m\u001b[0m\u001b[0m\n\u001b[0m\u001b[1;32m      2\u001b[0m \u001b[0mdropMeanRun\u001b[0m\u001b[0;34m.\u001b[0m\u001b[0mdetails\u001b[0m\u001b[0;34m(\u001b[0m\u001b[0;34m)\u001b[0m\u001b[0;34m\u001b[0m\u001b[0;34m\u001b[0m\u001b[0m\n\u001b[1;32m      3\u001b[0m \u001b[0mprint\u001b[0m\u001b[0;34m(\u001b[0m\u001b[0;34mf\"First Stage took {dropMeanRun.slbos[0].stages[0].duration_in_seconds()/60} minutes\"\u001b[0m\u001b[0;34m)\u001b[0m\u001b[0;34m\u001b[0m\u001b[0;34m\u001b[0m\u001b[0m\n\u001b[1;32m      4\u001b[0m \u001b[0mprint\u001b[0m\u001b[0;34m(\u001b[0m\u001b[0;34mf\"First Warmup took {dropMeanRun.warms[1].duration_in_seconds()/60} minutes\"\u001b[0m\u001b[0;34m)\u001b[0m\u001b[0;34m\u001b[0m\u001b[0;34m\u001b[0m\u001b[0m\n\u001b[1;32m      5\u001b[0m \u001b[0mprint\u001b[0m\u001b[0;34m(\u001b[0m\u001b[0;34mf\"Skips: {dropMeanRun.n_skips}\"\u001b[0m\u001b[0;34m)\u001b[0m\u001b[0;34m\u001b[0m\u001b[0;34m\u001b[0m\u001b[0m\n",
      "\u001b[0;32m~/workspace/research/slbo/notebooks/utils2.py\u001b[0m in \u001b[0;36mload\u001b[0;34m(job, reload, verbose)\u001b[0m\n\u001b[1;32m    387\u001b[0m         \u001b[0;32mif\u001b[0m \u001b[0mverbose\u001b[0m\u001b[0;34m:\u001b[0m\u001b[0;34m\u001b[0m\u001b[0;34m\u001b[0m\u001b[0m\n\u001b[1;32m    388\u001b[0m             \u001b[0mprint\u001b[0m\u001b[0;34m(\u001b[0m\u001b[0;34m\"Loading log file\"\u001b[0m\u001b[0;34m)\u001b[0m\u001b[0;34m\u001b[0m\u001b[0;34m\u001b[0m\u001b[0m\n\u001b[0;32m--> 389\u001b[0;31m         \u001b[0mcopy\u001b[0m\u001b[0;34m(\u001b[0m\u001b[0mremote\u001b[0m\u001b[0;34m(\u001b[0m\u001b[0mjob\u001b[0m\u001b[0;34m)\u001b[0m\u001b[0;34m,\u001b[0m \u001b[0mlocal\u001b[0m\u001b[0;34m(\u001b[0m\u001b[0mjob\u001b[0m\u001b[0;34m)\u001b[0m\u001b[0;34m)\u001b[0m\u001b[0;34m\u001b[0m\u001b[0;34m\u001b[0m\u001b[0m\n\u001b[0m\u001b[1;32m    390\u001b[0m         \u001b[0;32mif\u001b[0m \u001b[0mverbose\u001b[0m\u001b[0;34m:\u001b[0m\u001b[0;34m\u001b[0m\u001b[0;34m\u001b[0m\u001b[0m\n\u001b[1;32m    391\u001b[0m             \u001b[0mprint\u001b[0m\u001b[0;34m(\u001b[0m\u001b[0;34m\"Loaded log file\"\u001b[0m\u001b[0;34m)\u001b[0m\u001b[0;34m\u001b[0m\u001b[0;34m\u001b[0m\u001b[0m\n",
      "\u001b[0;32m~/workspace/research/slbo/notebooks/utils2.py\u001b[0m in \u001b[0;36mcopy\u001b[0;34m(remotepath, localpath)\u001b[0m\n\u001b[1;32m    374\u001b[0m     \u001b[0;32mif\u001b[0m \u001b[0mrcode\u001b[0m \u001b[0;34m!=\u001b[0m \u001b[0;36m0\u001b[0m\u001b[0;34m:\u001b[0m\u001b[0;34m\u001b[0m\u001b[0;34m\u001b[0m\u001b[0m\n\u001b[1;32m    375\u001b[0m         \u001b[0mprint\u001b[0m\u001b[0;34m(\u001b[0m\u001b[0mcommand\u001b[0m\u001b[0;34m)\u001b[0m\u001b[0;34m\u001b[0m\u001b[0;34m\u001b[0m\u001b[0m\n\u001b[0;32m--> 376\u001b[0;31m         \u001b[0;32mraise\u001b[0m \u001b[0mException\u001b[0m\u001b[0;34m(\u001b[0m\u001b[0;34m\"Bad Status code\"\u001b[0m\u001b[0;34m)\u001b[0m\u001b[0;34m\u001b[0m\u001b[0;34m\u001b[0m\u001b[0m\n\u001b[0m\u001b[1;32m    377\u001b[0m     \u001b[0;32mreturn\u001b[0m \u001b[0;32mTrue\u001b[0m\u001b[0;34m\u001b[0m\u001b[0;34m\u001b[0m\u001b[0m\n\u001b[1;32m    378\u001b[0m \u001b[0;34m\u001b[0m\u001b[0m\n",
      "\u001b[0;31mException\u001b[0m: Bad Status code"
     ]
    }
   ],
   "source": [
    "dropMeanRun, _ = utils2.load(704427, reload=True)\n",
    "dropMeanRun.details()\n",
    "print(f\"First Stage took {dropMeanRun.slbos[0].stages[0].duration_in_seconds()/60} minutes\")\n",
    "print(f\"First Warmup took {dropMeanRun.warms[1].duration_in_seconds()/60} minutes\")\n",
    "print(f\"Skips: {dropMeanRun.n_skips}\")\n",
    "print(f\"Performed: {len(dropMeanRun.tasks) - dropMeanRun.n_skips}\")\n",
    "plt.plot(dropMeanRun.skip_metrics)"
   ]
  },
  {
   "cell_type": "code",
   "execution_count": null,
   "metadata": {},
   "outputs": [],
   "source": [
    "shadowStateErrorRun, _ = utils2.load(704435, reload=True)\n",
    "shadowStateErrorRun.details()\n",
    "print(f\"First Stage took {shadowStateErrorRun.slbos[0].stages[0].duration_in_seconds()/60} minutes\")\n",
    "print(f\"First Warmup took {shadowStateErrorRun.warms[1].duration_in_seconds()/60} minutes\")\n",
    "print(f\"Skips: {shadowStateErrorRun.n_skips}\")\n",
    "print(f\"Performed: {len(shadowStateErrorRun.tasks) - shadowStateErrorRun.n_skips}\")\n",
    "plt.plot(shadowStateErrorRun.skip_metrics)"
   ]
  },
  {
   "cell_type": "code",
   "execution_count": null,
   "metadata": {},
   "outputs": [],
   "source": [
    "realRewardDiffRun, _ = utils2.load(704429, reload=True)\n",
    "realRewardDiffRun.details()\n",
    "print(f\"First Stage took {realRewardDiffRun.slbos[0].stages[0].duration_in_seconds()/60} minutes\")\n",
    "print(f\"First Warmup took {realRewardDiffRun.warms[1].duration_in_seconds()/60} minutes\")\n",
    "print(f\"Skips: {realRewardDiffRun.n_skips}\")\n",
    "print(f\"Performed: {len(realRewardDiffRun.tasks) - realRewardDiffRun.n_skips}\")\n",
    "plt.plot(realRewardDiffRun.skip_metrics)"
   ]
  },
  {
   "cell_type": "code",
   "execution_count": null,
   "metadata": {},
   "outputs": [],
   "source": [
    "realStateErrRun, _ = utils2.load(704431, reload=True)\n",
    "realStateErrRun.details()\n",
    "print(f\"First Stage took {realStateErrRun.slbos[0].stages[0].duration_in_seconds()/60} minutes\")\n",
    "print(f\"First Warmup took {realStateErrRun.warms[1].duration_in_seconds()/60} minutes\")\n",
    "print(f\"Skips: {realStateErrRun.n_skips}\")\n",
    "print(f\"Performed: {len(realStateErrRun.tasks) - realStateErrRun.n_skips}\")\n",
    "plt.plot(realStateErrRun.skip_metrics)"
   ]
  }
 ],
 "metadata": {
  "kernelspec": {
   "display_name": "Python 3",
   "language": "python",
   "name": "python3"
  },
  "language_info": {
   "codemirror_mode": {
    "name": "ipython",
    "version": 3
   },
   "file_extension": ".py",
   "mimetype": "text/x-python",
   "name": "python",
   "nbconvert_exporter": "python",
   "pygments_lexer": "ipython3",
   "version": "3.6.8"
  }
 },
 "nbformat": 4,
 "nbformat_minor": 2
}
