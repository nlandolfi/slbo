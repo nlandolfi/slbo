{
 "cells": [
  {
   "cell_type": "code",
   "execution_count": 1,
   "metadata": {},
   "outputs": [],
   "source": [
    "import utils2\n",
    "import numpy as np\n",
    "import matplotlib.pyplot as plt"
   ]
  },
  {
   "cell_type": "code",
   "execution_count": null,
   "metadata": {},
   "outputs": [
    {
     "name": "stdout",
     "output_type": "stream",
     "text": [
      "Loading log file\n"
     ]
    }
   ],
   "source": [
    "dropMeanRun, _ = utils2.load(700245, reload=True)\n",
    "dropMeanRun.details()\n",
    "print(f\"First Stage took {dropMeanRun.slbos[0].stages[0].duration_in_seconds()/60} minutes\")\n",
    "print(f\"First Warmup took {dropMeanRun.warms[1].duration_in_seconds()/60} minutes\")\n",
    "print(f\"Skips: {dropMeanRun.n_skips}\")\n",
    "plt.plot(dropMeanRun.skip_metrics)"
   ]
  },
  {
   "cell_type": "code",
   "execution_count": 3,
   "metadata": {},
   "outputs": [
    {
     "name": "stdout",
     "output_type": "stream",
     "text": [
      "Loading log file\n",
      "Loaded log file\n",
      "Reading lines\n",
      "Read lines\n",
      "Run:\n",
      "\t61 Tasks so far\n",
      "First Stage took 0.0 minutes\n",
      "First Warmup took 26.59887431462606 minutes\n"
     ]
    }
   ],
   "source": [
    "dropVarianceRun, _ = utils2.load(700246, reload=True)\n",
    "dropVarianceRun.details()\n",
    "print(f\"First Stage took {dropMeanRun.slbos[0].stages[0].duration_in_seconds()/60} minutes\")\n",
    "print(f\"First Warmup took {dropMeanRun.warms[1].duration_in_seconds()/60} minutes\")\n",
    "print(f\"Skips: {dropVarianceRun.n_skips}\")\n",
    "plt.plot(dropVarianceRun.skip_metrics)"
   ]
  },
  {
   "cell_type": "code",
   "execution_count": null,
   "metadata": {},
   "outputs": [],
   "source": [
    "plt.plot(dropMeanRun.skip_metrics)"
   ]
  },
  {
   "cell_type": "code",
   "execution_count": null,
   "metadata": {},
   "outputs": [],
   "source": [
    "dropMeanRun.n_skips"
   ]
  },
  {
   "cell_type": "code",
   "execution_count": null,
   "metadata": {},
   "outputs": [],
   "source": [
    "plt.plot(dropVarianceRun.skip_metrics)"
   ]
  },
  {
   "cell_type": "code",
   "execution_count": null,
   "metadata": {},
   "outputs": [],
   "source": [
    "dropVarianceRun.skip_metrics"
   ]
  },
  {
   "cell_type": "code",
   "execution_count": null,
   "metadata": {},
   "outputs": [],
   "source": [
    "shadowRewardVarianceRun, _ = utils2.load(699167, reload=True)\n",
    "shadowRewardVarianceRun.details()\n",
    "print(f\"First Stage took {shadowRewardVarianceRun.slbos[0].stages[0].duration_in_seconds()/60} minutes\")\n",
    "print(f\"First Warmup took {shadowRewardVarianceRun.warms[1].duration_in_seconds()/60} minutes\")"
   ]
  },
  {
   "cell_type": "code",
   "execution_count": null,
   "metadata": {},
   "outputs": [],
   "source": [
    "plt.plot(shadowRewardVarianceRun.skip_metrics)"
   ]
  },
  {
   "cell_type": "code",
   "execution_count": null,
   "metadata": {},
   "outputs": [],
   "source": []
  }
 ],
 "metadata": {
  "kernelspec": {
   "display_name": "Python 3",
   "language": "python",
   "name": "python3"
  },
  "language_info": {
   "codemirror_mode": {
    "name": "ipython",
    "version": 3
   },
   "file_extension": ".py",
   "mimetype": "text/x-python",
   "name": "python",
   "nbconvert_exporter": "python",
   "pygments_lexer": "ipython3",
   "version": "3.6.8"
  }
 },
 "nbformat": 4,
 "nbformat_minor": 2
}
