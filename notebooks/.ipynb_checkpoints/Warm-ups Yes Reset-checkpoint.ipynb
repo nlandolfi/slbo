{
 "cells": [
  {
   "cell_type": "code",
   "execution_count": 1,
   "metadata": {},
   "outputs": [],
   "source": [
    "from utils import *"
   ]
  },
  {
   "cell_type": "code",
   "execution_count": 2,
   "metadata": {},
   "outputs": [],
   "source": [
    "velocities = {\n",
    "    -1.9: [539481, 565638, 565653],\n",
    "    -1.5: [539480, 565640, 565654],\n",
    "    -1.1: [539468, 565641, 565655],\n",
    "    -0.9: [539461, 565642, 565656],\n",
    "    -0.5: [539460, 565643, 565657],\n",
    "    -0.1: [539427, 565644, 565658],\n",
    "    0.1: [536383, 565645, 565660],\n",
    "    0.5: [536384, 565646, 565661],\n",
    "    0.9: [536385, 565647, 565662],\n",
    "    1.1: [536386, 565648, 565663],\n",
    "    1.5: [536387, 565649, 565664],\n",
    "    1.9: [536388, 565652, 565665],\n",
    "}"
   ]
  },
  {
   "cell_type": "code",
   "execution_count": 4,
   "metadata": {},
   "outputs": [],
   "source": [
    "remotepaths ={vel: {job: f\"/tiger/u/lando/cmeta/v{vel}/{job}/log.json\" for job in jobs} for (vel, jobs) in velocities.items()}\n",
    "localpaths ={vel: {job: f\"/tmp/log{job}.json\" for job in jobs} for (vel, jobs) in velocities.items()}"
   ]
  },
  {
   "cell_type": "code",
   "execution_count": null,
   "metadata": {},
   "outputs": [],
   "source": [
    "# buffer"
   ]
  },
  {
   "cell_type": "code",
   "execution_count": null,
   "metadata": {},
   "outputs": [],
   "source": [
    "import os\n",
    "\n",
    "for vel in velocities:\n",
    "    for job in velocities[vel]:\n",
    "        remote = remotepaths[vel][job]\n",
    "        local = localpaths[vel][job]\n",
    "        command = f\"scp lando@sc.stanford.edu:{remote} {local}\"\n",
    "        rcode = os.system(command)\n",
    "        if rcode != 0:\n",
    "            print(command)\n",
    "            raise Exception(\"Bad Status code\")\n",
    "        print(f\"Velocity = {vel}, Loaded Job {job}\")"
   ]
  },
  {
   "cell_type": "code",
   "execution_count": 5,
   "metadata": {},
   "outputs": [],
   "source": [
    "lines = {vel: {job: read_log(localpaths[vel][job]) for job in jobs} for (vel, jobs) in velocities.items()}"
   ]
  },
  {
   "cell_type": "code",
   "execution_count": 6,
   "metadata": {},
   "outputs": [
    {
     "name": "stdout",
     "output_type": "stream",
     "text": [
      "Velocity -1.9, Job 539481 has started 100 stages\n",
      "Velocity -1.9, Job 565638 has started 67 stages\n",
      "Velocity -1.9, Job 565653 has started 68 stages\n",
      "Velocity -1.5, Job 539480 has started 100 stages\n",
      "Velocity -1.5, Job 565640 has started 68 stages\n",
      "Velocity -1.5, Job 565654 has started 68 stages\n",
      "Velocity -1.1, Job 539468 has started 100 stages\n",
      "Velocity -1.1, Job 565641 has started 70 stages\n",
      "Velocity -1.1, Job 565655 has started 68 stages\n",
      "Velocity -0.9, Job 539461 has started 100 stages\n",
      "Velocity -0.9, Job 565642 has started 69 stages\n",
      "Velocity -0.9, Job 565656 has started 67 stages\n",
      "Velocity -0.5, Job 539460 has started 100 stages\n",
      "Velocity -0.5, Job 565643 has started 66 stages\n",
      "Velocity -0.5, Job 565657 has started 69 stages\n",
      "Velocity -0.1, Job 539427 has started 100 stages\n",
      "Velocity -0.1, Job 565644 has started 68 stages\n",
      "Velocity -0.1, Job 565658 has started 69 stages\n",
      "Velocity 0.1, Job 536383 has started 100 stages\n",
      "Velocity 0.1, Job 565645 has started 69 stages\n",
      "Velocity 0.1, Job 565660 has started 69 stages\n",
      "Velocity 0.5, Job 536384 has started 100 stages\n",
      "Velocity 0.5, Job 565646 has started 68 stages\n",
      "Velocity 0.5, Job 565661 has started 68 stages\n",
      "Velocity 0.9, Job 536385 has started 100 stages\n",
      "Velocity 0.9, Job 565647 has started 68 stages\n",
      "Velocity 0.9, Job 565662 has started 92 stages\n",
      "Velocity 1.1, Job 536386 has started 100 stages\n",
      "Velocity 1.1, Job 565648 has started 69 stages\n",
      "Velocity 1.1, Job 565663 has started 97 stages\n",
      "Velocity 1.5, Job 536387 has started 100 stages\n",
      "Velocity 1.5, Job 565649 has started 66 stages\n",
      "Velocity 1.5, Job 565664 has started 99 stages\n",
      "Velocity 1.9, Job 536388 has started 100 stages\n",
      "Velocity 1.9, Job 565652 has started 69 stages\n",
      "Velocity 1.9, Job 565665 has started 99 stages\n"
     ]
    }
   ],
   "source": [
    "warms = {vel: {} for vel in velocities}\n",
    "slbos = {vel: {} for vel in velocities}\n",
    "\n",
    "for vel in velocities:\n",
    "    for job in velocities[vel]:\n",
    "        warm, slbo = extract_rewards(lines[vel][job])\n",
    "        warms[vel][job] = warm\n",
    "        slbos[vel][job] = slbo\n",
    "        print(f\"Velocity {vel}, Job {job} has started {len(slbos[vel][job][0])} stages\")"
   ]
  },
  {
   "cell_type": "code",
   "execution_count": null,
   "metadata": {},
   "outputs": [],
   "source": [
    "real_warms, virt_warms = {vel: {} for vel in velocities}, {vel: {} for vel in velocities}\n",
    "\n",
    "for vel in velocities:\n",
    "    for job in velocities[vel]:\n",
    "        rw, vr = get_warmup(lines[vel][job])\n",
    "        real_warms[vel][job] = rw\n",
    "        virt_warms[vel][job] = vr\n",
    "        print(f\"Velocity {vel} Job {job} has {len(real_warms[vel][job])} warmup iters\")"
   ]
  },
  {
   "cell_type": "code",
   "execution_count": null,
   "metadata": {},
   "outputs": [],
   "source": [
    "real_rewards = {vel: {} for vel in velocities}\n",
    "virt_rewards = {vel: {} for vel in velocities}\n",
    "\n",
    "for vel in velocities:\n",
    "    for job in velocities[vel]:\n",
    "        real, virt = get_checkpoints(lines[vel][job])\n",
    "        real_rewards[vel][job] = real\n",
    "        virt_rewards[vel][job] = virt"
   ]
  },
  {
   "cell_type": "code",
   "execution_count": null,
   "metadata": {},
   "outputs": [],
   "source": [
    "mins = {\n",
    "    0.1: -233.78927811594411, \n",
    "    0.5: -411.35567527732564, \n",
    "    0.9: -610.8872788980733, \n",
    "    1.1: -710.8872788980734, \n",
    "    1.5: -910.8872788980736, \n",
    "    1.9: -1110.8872788980734,\n",
    "}\n",
    "maxs = {\n",
    "    0.1: -3.5636334132798204, \n",
    "    0.5: -10.710668525449655, \n",
    "    0.9: -30.98072317031702, \n",
    "    1.1: -44.14465103596886, \n",
    "    1.5: -51.02850590038164, \n",
    "    1.9: -61.263854017466976\n",
    "}\n",
    "\n",
    "avgs = {\n",
    "     0.1: -10.202044447173503, \n",
    "    0.5: -21.142860320736776, \n",
    "    0.9: -46.16668517147687, \n",
    "    1.1: -66.24972224328671, \n",
    "    1.5: -87.42144407053759, \n",
    "    1.9: -113.32796903390458, \n",
    "    2.0: -137.50432902203622,\n",
    "}\n",
    "\n",
    "\n",
    "#### AVERAGED \n",
    "\n",
    "maxs = {-2.0: -90.60565689208266, -1.9: -70.67690735370886, -1.5: -42.06956291427862, -1.1: -36.99489419364075, -1.0: -23.743657058369845, -0.9: -21.157800214277188, -0.1: -3.1041742201174394, -0.5: -10.680755730823584, 0.1: -3.4021209446496337, 0.5: -12.323942266246538, 0.9: -23.53198112703673, 1.1: -31.343789461165542, 1.5: -51.21932985927324, 1.9: -63.050301977318384, 2.0: -85.4236675900036}\n",
    "mins = {-2.0: -993.9190119522864, -1.9: -945.0818382085795, -1.5: -745.0818382085795, -1.1: -546.2446644648728, -1.0: -510.61478664909976, -0.9: -445.43216946165614, -0.1: -187.5039532110764, -0.5: -259.65397607613966, 0.1: -231.2243621688237, 0.5: -410.1003669467948, 0.9: -609.6475634930734, 1.1: -709.6475634930736, 1.5: -909.6475634930736, 1.9: -1109.6475634930734, 2.0: -1160.8872788980732}\n",
    "avgs = {-2.0: -136.4502250988098, -1.9: -101.15423269038038, -1.5: -73.20949096123613, -1.1: -61.13370977385761, -1.0: -47.087996715423955, -0.9: -35.88038558730979, -0.1: -8.75671650336899, -0.5: -18.677280704086265, 0.1: -9.545282672321349, 0.5: -23.09364493886916, 0.9: -40.610557419984794, 1.1: -50.763872744894364, 1.5: -81.94783046596359, 1.9: -105.55608759237818, 2.0: -137.50432902203622}\n"
   ]
  },
  {
   "cell_type": "code",
   "execution_count": null,
   "metadata": {},
   "outputs": [],
   "source": [
    "def plot_all_vel_warmups(vel):\n",
    "    for job in velocities[vel]:\n",
    "        fig, ax = plt.subplots(figsize=(15, 5))\n",
    "\n",
    "        plot_stage(ax, warms[vel][job][0], 80, 40)\n",
    "        warm_iters = len(real_warms[vel][job])\n",
    "\n",
    "        ax.scatter([(i+1)*40 for i in range(0, warm_iters)], real_warms[vel][job], color=\"r\")\n",
    "        ax.scatter([(i+1)*40 for i in range(0, warm_iters)], virt_warms[vel][job], color=\"y\")\n",
    "        ax.set_title(f\"v{vel} Warmup 80 Iters of SLBO\")\n",
    "        ax.axhline(y=mins[vel], color=\"yellow\", label=\"min\")\n",
    "        ax.axhline(y=maxs[vel], color=\"orange\", label=\"max\")\n",
    "        ax.axhline(y=avgs[vel], color=\"green\", label=\"avg\")\n",
    "        ax.set_ylim((-300, 0))\n",
    "        ax.legend()"
   ]
  },
  {
   "cell_type": "code",
   "execution_count": null,
   "metadata": {},
   "outputs": [],
   "source": [
    "seeds = [100, 101, 102]\n",
    "def task_from_lines(lines):\n",
    "    for line in lines:\n",
    "        if \"Task Fixed\" not in line[\"fmt\"]:\n",
    "            continue\n",
    "            \n",
    "        return line[\"args\"][0][\"goal_velocity\"]\n",
    "\n",
    "for vel in velocities:\n",
    "    for job in velocities[vel]:\n",
    "        #print(f\"{task_from_lines(lines[vel][job])} == {vel}\")\n",
    "        assert task_from_lines(lines[vel][job]) == vel"
   ]
  },
  {
   "cell_type": "code",
   "execution_count": null,
   "metadata": {},
   "outputs": [],
   "source": [
    "plot_all_vel_warmups(-1.9)"
   ]
  },
  {
   "cell_type": "code",
   "execution_count": null,
   "metadata": {},
   "outputs": [],
   "source": [
    "plot_all_vel_warmups(-1.5)"
   ]
  },
  {
   "cell_type": "code",
   "execution_count": null,
   "metadata": {},
   "outputs": [],
   "source": [
    "plot_all_vel_warmups(-1.1)"
   ]
  },
  {
   "cell_type": "code",
   "execution_count": null,
   "metadata": {},
   "outputs": [],
   "source": [
    "plot_all_vel_warmups(-0.9)"
   ]
  },
  {
   "cell_type": "code",
   "execution_count": null,
   "metadata": {},
   "outputs": [],
   "source": [
    "plot_all_vel_warmups(-0.5)"
   ]
  },
  {
   "cell_type": "code",
   "execution_count": null,
   "metadata": {},
   "outputs": [],
   "source": [
    "plot_all_vel_warmups(-0.1)"
   ]
  },
  {
   "cell_type": "code",
   "execution_count": null,
   "metadata": {
    "scrolled": true
   },
   "outputs": [],
   "source": [
    "plot_all_vel_warmups(0.1)"
   ]
  },
  {
   "cell_type": "code",
   "execution_count": null,
   "metadata": {},
   "outputs": [],
   "source": [
    "plot_all_vel_warmups(0.5)"
   ]
  },
  {
   "cell_type": "code",
   "execution_count": null,
   "metadata": {},
   "outputs": [],
   "source": [
    "plot_all_vel_warmups(0.9)"
   ]
  },
  {
   "cell_type": "code",
   "execution_count": null,
   "metadata": {},
   "outputs": [],
   "source": [
    "plot_all_vel_warmups(1.1)"
   ]
  },
  {
   "cell_type": "code",
   "execution_count": null,
   "metadata": {},
   "outputs": [],
   "source": [
    "plot_all_vel_warmups(1.5)"
   ]
  },
  {
   "cell_type": "code",
   "execution_count": null,
   "metadata": {},
   "outputs": [],
   "source": [
    "plot_all_vel_warmups(1.9)"
   ]
  },
  {
   "cell_type": "code",
   "execution_count": null,
   "metadata": {},
   "outputs": [],
   "source": [
    "for vel in velocities:\n",
    "    fig, ax = plt.subplots(figsize=(15, 5))\n",
    "    \n",
    "    plot_stage(ax, np.mean(np.vstack([warms[vel][job][0] for job in velocities[vel]]), axis=0), 80, 40)\n",
    "    warm_iters = min([len(real_warms[vel][job]) for job in velocities[vel]])\n",
    "                          \n",
    "    ax.errorbar(\n",
    "        [(i+1)*40 for i in range(0, warm_iters)], \n",
    "        np.mean(np.vstack([real_warms[vel][job] for job in velocities[vel]]), axis=0), \n",
    "        np.std(np.vstack([real_warms[vel][job] for job in velocities[vel]])),\n",
    "        color=\"r\",\n",
    "        fmt='o',\n",
    "    )\n",
    "    ax.errorbar(\n",
    "        [(i+1)*40 for i in range(0, warm_iters)], \n",
    "        np.mean(np.vstack([virt_warms[vel][job] for job in velocities[vel]]), axis=0),\n",
    "        np.std(np.vstack([virt_warms[vel][job] for job in velocities[vel]])),\n",
    "        color=\"y\",\n",
    "    )\n",
    "    ax.set_title(f\"v{vel} Warmup 80 Iters of SLBO\")\n",
    "    ax.axhline(y=mins[vel], color=\"yellow\", label=\"min\")\n",
    "    ax.axhline(y=maxs[vel], color=\"orange\", label=\"max\")\n",
    "    ax.axhline(y=avgs[vel], color=\"green\", label=\"avg\")\n",
    "    ax.set_ylim((-300, 0))\n",
    "    ax.legend()"
   ]
  },
  {
   "cell_type": "code",
   "execution_count": null,
   "metadata": {},
   "outputs": [],
   "source": [
    "print(\"he\")"
   ]
  },
  {
   "cell_type": "code",
   "execution_count": null,
   "metadata": {},
   "outputs": [],
   "source": [
    "slbos[-1.9][539481][0]\n",
    "plot_stages(slbos[-1.9][539481][0], 20, 40)"
   ]
  },
  {
   "cell_type": "code",
   "execution_count": null,
   "metadata": {},
   "outputs": [],
   "source": [
    "for vel in real_rewards:\n",
    "    fig, ax = plt.subplots()\n",
    "    ax.scatter([i for i in range(len(real_rewards[vel]))], real_rewards[vel], label=f\"vel={vel}\")\n",
    "    ax.axhline(y=mins[vel], color=\"yellow\")\n",
    "    ax.axhline(y=maxs[vel], color=\"orange\")\n",
    "    ax.set_ylim((-200, 0))\n",
    "    ax.axhline(y=avgs[vel], color=\"green\")\n",
    "    ax.legend()"
   ]
  },
  {
   "cell_type": "code",
   "execution_count": null,
   "metadata": {},
   "outputs": [],
   "source": [
    "for i in range(1, 6):\n",
    "    print(i)"
   ]
  },
  {
   "cell_type": "code",
   "execution_count": null,
   "metadata": {},
   "outputs": [],
   "source": []
  }
 ],
 "metadata": {
  "kernelspec": {
   "display_name": "Python 3",
   "language": "python",
   "name": "python3"
  },
  "language_info": {
   "codemirror_mode": {
    "name": "ipython",
    "version": 3
   },
   "file_extension": ".py",
   "mimetype": "text/x-python",
   "name": "python",
   "nbconvert_exporter": "python",
   "pygments_lexer": "ipython3",
   "version": "3.6.8"
  }
 },
 "nbformat": 4,
 "nbformat_minor": 2
}
