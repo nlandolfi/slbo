{
 "cells": [
  {
   "cell_type": "code",
   "execution_count": 17,
   "metadata": {},
   "outputs": [],
   "source": [
    "import os\n",
    "from utils import *"
   ]
  },
  {
   "cell_type": "code",
   "execution_count": 18,
   "metadata": {},
   "outputs": [
    {
     "name": "stdout",
     "output_type": "stream",
     "text": [
      "We have 15 velocities, and 25 jobs.\n",
      "That is an average of 1.6666666666666667 jobs per velocity.\n"
     ]
    }
   ],
   "source": [
    "# Map from velocities to list of jobs, assumed run by cheetahpretrain.sh\n",
    "\n",
    "velocities = {\n",
    "    -2.0: [532990], \n",
    "    -1.9: [536093, 541360],\n",
    "    -1.5: [536092, 541361],\n",
    "    -1.1: [541362],\n",
    "    -1.0: [532991, ], \n",
    "    -0.9: [536094, 541363],\n",
    "    -0.1: [532992], \n",
    "    -0.5: [536091, 541364],\n",
    "     0.1: [532889, 541365], \n",
    "     0.5: [532969, 541366], \n",
    "     0.9: [536095, 541367],\n",
    "     1.1: [536096, 541368],\n",
    "     1.5: [532970, 541369], \n",
    "     1.9: [532971, 541370], \n",
    "     2.0: [532975],\n",
    "}\n",
    "\n",
    "num_jobs = sum([len(velocities[vel]) for vel in velocities])\n",
    "print(f\"We have {len(velocities)} velocities, and {num_jobs} jobs.\")\n",
    "print(f\"That is an average of {num_jobs/len(velocities)} jobs per velocity.\")"
   ]
  },
  {
   "cell_type": "code",
   "execution_count": 19,
   "metadata": {},
   "outputs": [],
   "source": [
    "remotepaths ={vel: {job: f\"/tiger/u/lando/cpre/{job}/log.json\" for job in jobs} for (vel, jobs) in velocities.items()}\n",
    "localpaths ={vel: {job: f\"/tmp/log{job}.json\" for job in jobs} for (vel, jobs) in velocities.items()}"
   ]
  },
  {
   "cell_type": "code",
   "execution_count": 20,
   "metadata": {},
   "outputs": [
    {
     "name": "stdout",
     "output_type": "stream",
     "text": [
      "scp lando@sc.stanford.edu:/tiger/u/lando/cpre/532990/log.json /tmp/log532990.json\n"
     ]
    },
    {
     "ename": "Exception",
     "evalue": "Bad Status code",
     "output_type": "error",
     "traceback": [
      "\u001b[0;31m---------------------------------------------------------------------------\u001b[0m",
      "\u001b[0;31mException\u001b[0m                                 Traceback (most recent call last)",
      "\u001b[0;32m<ipython-input-20-d062e24c1b0b>\u001b[0m in \u001b[0;36m<module>\u001b[0;34m\u001b[0m\n\u001b[1;32m      7\u001b[0m         \u001b[0;32mif\u001b[0m \u001b[0mrcode\u001b[0m \u001b[0;34m!=\u001b[0m \u001b[0;36m0\u001b[0m\u001b[0;34m:\u001b[0m\u001b[0;34m\u001b[0m\u001b[0;34m\u001b[0m\u001b[0m\n\u001b[1;32m      8\u001b[0m             \u001b[0mprint\u001b[0m\u001b[0;34m(\u001b[0m\u001b[0mcommand\u001b[0m\u001b[0;34m)\u001b[0m\u001b[0;34m\u001b[0m\u001b[0;34m\u001b[0m\u001b[0m\n\u001b[0;32m----> 9\u001b[0;31m             \u001b[0;32mraise\u001b[0m \u001b[0mException\u001b[0m\u001b[0;34m(\u001b[0m\u001b[0;34m\"Bad Status code\"\u001b[0m\u001b[0;34m)\u001b[0m\u001b[0;34m\u001b[0m\u001b[0;34m\u001b[0m\u001b[0m\n\u001b[0m\u001b[1;32m     10\u001b[0m         \u001b[0mprint\u001b[0m\u001b[0;34m(\u001b[0m\u001b[0;34mf\"Velocity = {vel}, Loaded Job {job}\"\u001b[0m\u001b[0;34m)\u001b[0m\u001b[0;34m\u001b[0m\u001b[0;34m\u001b[0m\u001b[0m\n",
      "\u001b[0;31mException\u001b[0m: Bad Status code"
     ]
    }
   ],
   "source": [
    "for vel in velocities:\n",
    "    for job in velocities[vel]:\n",
    "        remote = remotepaths[vel][job]\n",
    "        local = localpaths[vel][job]\n",
    "        command = f\"scp lando@sc.stanford.edu:{remote} {local}\"\n",
    "        rcode = os.system(command)\n",
    "        if rcode != 0:\n",
    "            print(command)\n",
    "            raise Exception(\"Bad Status code\")\n",
    "        print(f\"Velocity = {vel}, Loaded Job {job}\")"
   ]
  },
  {
   "cell_type": "code",
   "execution_count": 21,
   "metadata": {},
   "outputs": [],
   "source": [
    "lines = {vel: {job: read_log(localpaths[vel][job]) for job in jobs} for (vel, jobs) in velocities.items()}"
   ]
  },
  {
   "cell_type": "code",
   "execution_count": 26,
   "metadata": {},
   "outputs": [
    {
     "data": {
      "text/plain": [
       "array([2.5, 3.5, 4.5])"
      ]
     },
     "execution_count": 26,
     "metadata": {},
     "output_type": "execute_result"
    }
   ],
   "source": [
    "x = [1,2,3]\n",
    "y = [4,5,6]\n",
    "z = np.vstack([x,y])\n",
    "np.mean(z, axis=0)"
   ]
  },
  {
   "cell_type": "code",
   "execution_count": 27,
   "metadata": {},
   "outputs": [
    {
     "name": "stdout",
     "output_type": "stream",
     "text": [
      "Velocity -2.0, Job 532990 has started 100 stages\n",
      "Velocity -1.9, Job 536093 has started 100 stages\n",
      "Velocity -1.9, Job 541360 has started 100 stages\n",
      "Velocity -1.5, Job 536092 has started 100 stages\n",
      "Velocity -1.5, Job 541361 has started 100 stages\n",
      "Velocity -1.1, Job 541362 has started 100 stages\n",
      "Velocity -1.0, Job 532991 has started 100 stages\n",
      "Velocity -0.9, Job 536094 has started 100 stages\n",
      "Velocity -0.9, Job 541363 has started 100 stages\n",
      "Velocity -0.1, Job 532992 has started 100 stages\n",
      "Velocity -0.5, Job 536091 has started 100 stages\n",
      "Velocity -0.5, Job 541364 has started 100 stages\n",
      "Velocity 0.1, Job 532889 has started 100 stages\n",
      "Velocity 0.1, Job 541365 has started 100 stages\n",
      "Velocity 0.5, Job 532969 has started 100 stages\n",
      "Velocity 0.5, Job 541366 has started 100 stages\n",
      "Velocity 0.9, Job 536095 has started 100 stages\n",
      "Velocity 0.9, Job 541367 has started 100 stages\n",
      "Velocity 1.1, Job 536096 has started 100 stages\n",
      "Velocity 1.1, Job 541368 has started 100 stages\n",
      "Velocity 1.5, Job 532970 has started 100 stages\n",
      "Velocity 1.5, Job 541369 has started 100 stages\n",
      "Velocity 1.9, Job 532971 has started 100 stages\n",
      "Velocity 1.9, Job 541370 has started 100 stages\n",
      "Velocity 2.0, Job 532975 has started 100 stages\n"
     ]
    }
   ],
   "source": [
    "warms = {vel: {} for vel in velocities}\n",
    "slbos = {vel: {} for vel in velocities}\n",
    "\n",
    "for vel in velocities:\n",
    "    for job in velocities[vel]:\n",
    "        warm, slbo = extract_rewards(lines[vel][job])\n",
    "        warms[vel][job] = warm\n",
    "        slbos[vel][job] = slbo\n",
    "        print(f\"Velocity {vel}, Job {job} has started {len(slbos[vel][job][0])} stages\")"
   ]
  },
  {
   "cell_type": "code",
   "execution_count": 28,
   "metadata": {},
   "outputs": [],
   "source": [
    "real_rewards = {vel: {} for vel in velocities}\n",
    "virt_rewards = {vel: {} for vel in velocities}\n",
    "\n",
    "for vel in velocities:\n",
    "    for job in velocities[vel]:\n",
    "        real, virt = get_checkpoints(lines[vel][job])\n",
    "        real_rewards[vel][job] = real\n",
    "        virt_rewards[vel][job] = virt"
   ]
  },
  {
   "cell_type": "code",
   "execution_count": 29,
   "metadata": {},
   "outputs": [
    {
     "ename": "TypeError",
     "evalue": "object of type 'float' has no len()",
     "output_type": "error",
     "traceback": [
      "\u001b[0;31m---------------------------------------------------------------------------\u001b[0m",
      "\u001b[0;31mTypeError\u001b[0m                                 Traceback (most recent call last)",
      "\u001b[0;32m<ipython-input-29-093f0bc08f9f>\u001b[0m in \u001b[0;36m<module>\u001b[0;34m\u001b[0m\n\u001b[1;32m      3\u001b[0m \u001b[0;32mfor\u001b[0m \u001b[0mvel\u001b[0m \u001b[0;32min\u001b[0m \u001b[0mvelocities\u001b[0m\u001b[0;34m:\u001b[0m\u001b[0;34m\u001b[0m\u001b[0;34m\u001b[0m\u001b[0m\n\u001b[1;32m      4\u001b[0m     \u001b[0mwarm\u001b[0m \u001b[0;34m=\u001b[0m \u001b[0;34m[\u001b[0m\u001b[0mnp\u001b[0m\u001b[0;34m.\u001b[0m\u001b[0masarray\u001b[0m\u001b[0;34m(\u001b[0m\u001b[0mwarms\u001b[0m\u001b[0;34m[\u001b[0m\u001b[0mvel\u001b[0m\u001b[0;34m]\u001b[0m\u001b[0;34m[\u001b[0m\u001b[0mjob\u001b[0m\u001b[0;34m]\u001b[0m\u001b[0;34m)\u001b[0m \u001b[0;32mfor\u001b[0m \u001b[0mjob\u001b[0m \u001b[0;32min\u001b[0m \u001b[0mwarms\u001b[0m\u001b[0;34m[\u001b[0m\u001b[0mvel\u001b[0m\u001b[0;34m]\u001b[0m\u001b[0;34m]\u001b[0m\u001b[0;34m\u001b[0m\u001b[0;34m\u001b[0m\u001b[0m\n\u001b[0;32m----> 5\u001b[0;31m     \u001b[0mmin_length\u001b[0m \u001b[0;34m=\u001b[0m \u001b[0mmin\u001b[0m\u001b[0;34m(\u001b[0m\u001b[0;34m[\u001b[0m\u001b[0mlen\u001b[0m\u001b[0;34m(\u001b[0m\u001b[0mw\u001b[0m\u001b[0;34m)\u001b[0m \u001b[0;32mfor\u001b[0m \u001b[0mw\u001b[0m \u001b[0;32min\u001b[0m \u001b[0mwarms\u001b[0m\u001b[0;34m]\u001b[0m\u001b[0;34m)\u001b[0m\u001b[0;34m\u001b[0m\u001b[0;34m\u001b[0m\u001b[0m\n\u001b[0m\u001b[1;32m      6\u001b[0m     \u001b[0mshortwarm\u001b[0m \u001b[0;34m=\u001b[0m \u001b[0;34m[\u001b[0m\u001b[0mw\u001b[0m\u001b[0;34m[\u001b[0m\u001b[0;34m:\u001b[0m\u001b[0mmin_length\u001b[0m\u001b[0;34m]\u001b[0m \u001b[0;32mfor\u001b[0m \u001b[0mw\u001b[0m \u001b[0;32min\u001b[0m \u001b[0mwarm\u001b[0m\u001b[0;34m]\u001b[0m\u001b[0;34m\u001b[0m\u001b[0;34m\u001b[0m\u001b[0m\n\u001b[1;32m      7\u001b[0m     \u001b[0mwarm\u001b[0m \u001b[0;34m=\u001b[0m \u001b[0mnp\u001b[0m\u001b[0;34m.\u001b[0m\u001b[0mvstack\u001b[0m\u001b[0;34m(\u001b[0m\u001b[0mwarm\u001b[0m\u001b[0;34m)\u001b[0m\u001b[0;34m\u001b[0m\u001b[0;34m\u001b[0m\u001b[0m\n",
      "\u001b[0;32m<ipython-input-29-093f0bc08f9f>\u001b[0m in \u001b[0;36m<listcomp>\u001b[0;34m(.0)\u001b[0m\n\u001b[1;32m      3\u001b[0m \u001b[0;32mfor\u001b[0m \u001b[0mvel\u001b[0m \u001b[0;32min\u001b[0m \u001b[0mvelocities\u001b[0m\u001b[0;34m:\u001b[0m\u001b[0;34m\u001b[0m\u001b[0;34m\u001b[0m\u001b[0m\n\u001b[1;32m      4\u001b[0m     \u001b[0mwarm\u001b[0m \u001b[0;34m=\u001b[0m \u001b[0;34m[\u001b[0m\u001b[0mnp\u001b[0m\u001b[0;34m.\u001b[0m\u001b[0masarray\u001b[0m\u001b[0;34m(\u001b[0m\u001b[0mwarms\u001b[0m\u001b[0;34m[\u001b[0m\u001b[0mvel\u001b[0m\u001b[0;34m]\u001b[0m\u001b[0;34m[\u001b[0m\u001b[0mjob\u001b[0m\u001b[0;34m]\u001b[0m\u001b[0;34m)\u001b[0m \u001b[0;32mfor\u001b[0m \u001b[0mjob\u001b[0m \u001b[0;32min\u001b[0m \u001b[0mwarms\u001b[0m\u001b[0;34m[\u001b[0m\u001b[0mvel\u001b[0m\u001b[0;34m]\u001b[0m\u001b[0;34m]\u001b[0m\u001b[0;34m\u001b[0m\u001b[0;34m\u001b[0m\u001b[0m\n\u001b[0;32m----> 5\u001b[0;31m     \u001b[0mmin_length\u001b[0m \u001b[0;34m=\u001b[0m \u001b[0mmin\u001b[0m\u001b[0;34m(\u001b[0m\u001b[0;34m[\u001b[0m\u001b[0mlen\u001b[0m\u001b[0;34m(\u001b[0m\u001b[0mw\u001b[0m\u001b[0;34m)\u001b[0m \u001b[0;32mfor\u001b[0m \u001b[0mw\u001b[0m \u001b[0;32min\u001b[0m \u001b[0mwarms\u001b[0m\u001b[0;34m]\u001b[0m\u001b[0;34m)\u001b[0m\u001b[0;34m\u001b[0m\u001b[0;34m\u001b[0m\u001b[0m\n\u001b[0m\u001b[1;32m      6\u001b[0m     \u001b[0mshortwarm\u001b[0m \u001b[0;34m=\u001b[0m \u001b[0;34m[\u001b[0m\u001b[0mw\u001b[0m\u001b[0;34m[\u001b[0m\u001b[0;34m:\u001b[0m\u001b[0mmin_length\u001b[0m\u001b[0;34m]\u001b[0m \u001b[0;32mfor\u001b[0m \u001b[0mw\u001b[0m \u001b[0;32min\u001b[0m \u001b[0mwarm\u001b[0m\u001b[0;34m]\u001b[0m\u001b[0;34m\u001b[0m\u001b[0;34m\u001b[0m\u001b[0m\n\u001b[1;32m      7\u001b[0m     \u001b[0mwarm\u001b[0m \u001b[0;34m=\u001b[0m \u001b[0mnp\u001b[0m\u001b[0;34m.\u001b[0m\u001b[0mvstack\u001b[0m\u001b[0;34m(\u001b[0m\u001b[0mwarm\u001b[0m\u001b[0;34m)\u001b[0m\u001b[0;34m\u001b[0m\u001b[0;34m\u001b[0m\u001b[0m\n",
      "\u001b[0;31mTypeError\u001b[0m: object of type 'float' has no len()"
     ]
    }
   ],
   "source": [
    "warms_mean = {}\n",
    "warms_std = {}\n",
    "for vel in velocities:\n",
    "    warm = [np.asarray(warms[vel][job]) for job in warms[vel]]\n",
    "    min_length = min([len(w) for w in warms])\n",
    "    shortwarm = [w[:min_length] for w in warm]\n",
    "    warm = np.vstack(warm)\n",
    "    assert warm.shape == (len(velocities[vel]), min_length)\n",
    "    warmmean = np.mean(axis=1)\n",
    "    warmstd = np.std(axis=1)\n",
    "    warms_mean[vel] = warmmean\n",
    "    warms_std[vel] = warms_std"
   ]
  },
  {
   "cell_type": "code",
   "execution_count": 30,
   "metadata": {},
   "outputs": [
    {
     "name": "stdout",
     "output_type": "stream",
     "text": [
      "{-2.0: -90.60565689208266, -1.9: -70.67690735370886, -1.5: -42.06956291427862, -1.1: -36.99489419364075, -1.0: -23.743657058369845, -0.9: -21.157800214277188, -0.1: -3.1041742201174394, -0.5: -10.680755730823584, 0.1: -3.4021209446496337, 0.5: -12.323942266246538, 0.9: -23.53198112703673, 1.1: -31.343789461165542, 1.5: -51.21932985927324, 1.9: -63.050301977318384, 2.0: -85.4236675900036}\n"
     ]
    },
    {
     "data": {
      "image/png": "[encoded data removed]",
      "text/plain": [
       "<Figure size 432x288 with 1 Axes>"
      ]
     },
     "metadata": {
      "needs_background": "light"
     },
     "output_type": "display_data"
    }
   ],
   "source": [
    "vellist = velocities.keys()\n",
    "max_rewards = {vel: np.mean(np.asarray([max(real_rewards[vel][job]) for job in real_rewards[vel]])) for vel in real_rewards}\n",
    "for vel in vellist:\n",
    "    plt.axvline(x = vel)\n",
    "plt.scatter(vellist, [max_rewards[vel] for vel in vellist])\n",
    "print(max_rewards)"
   ]
  },
  {
   "cell_type": "code",
   "execution_count": 31,
   "metadata": {},
   "outputs": [
    {
     "name": "stdout",
     "output_type": "stream",
     "text": [
      "{-2.0: -993.9190119522864, -1.9: -945.0818382085795, -1.5: -745.0818382085795, -1.1: -546.2446644648728, -1.0: -510.61478664909976, -0.9: -445.43216946165614, -0.1: -187.5039532110764, -0.5: -259.65397607613966, 0.1: -231.2243621688237, 0.5: -410.1003669467948, 0.9: -609.6475634930734, 1.1: -709.6475634930736, 1.5: -909.6475634930736, 1.9: -1109.6475634930734, 2.0: -1160.8872788980732}\n"
     ]
    },
    {
     "data": {
      "image/png": "[encoded data removed]",
      "text/plain": [
       "<Figure size 432x288 with 1 Axes>"
      ]
     },
     "metadata": {
      "needs_background": "light"
     },
     "output_type": "display_data"
    }
   ],
   "source": [
    "min_rewards = {vel: np.mean(np.asarray([min(real_rewards[vel][job]) for job in real_rewards[vel]])) for vel in real_rewards}\n",
    "for vel in vellist:\n",
    "    plt.axvline(x = vel)\n",
    "plt.scatter(vellist, [min_rewards[vel] for vel in vellist])\n",
    "print(min_rewards)"
   ]
  },
  {
   "cell_type": "code",
   "execution_count": 32,
   "metadata": {},
   "outputs": [
    {
     "name": "stdout",
     "output_type": "stream",
     "text": [
      "{-2.0: -136.4502250988098, -1.9: -101.15423269038038, -1.5: -73.20949096123613, -1.1: -61.13370977385761, -1.0: -47.087996715423955, -0.9: -35.88038558730979, -0.1: -8.75671650336899, -0.5: -18.677280704086265, 0.1: -9.545282672321349, 0.5: -23.09364493886916, 0.9: -40.610557419984794, 1.1: -50.763872744894364, 1.5: -81.94783046596359, 1.9: -105.55608759237818, 2.0: -137.50432902203622}\n"
     ]
    },
    {
     "data": {
      "image/png": "[encoded data removed]",
      "text/plain": [
       "<Figure size 432x288 with 1 Axes>"
      ]
     },
     "metadata": {
      "needs_background": "light"
     },
     "output_type": "display_data"
    }
   ],
   "source": [
    "avg_rewards = {vel: np.mean(np.asarray([np.mean(np.asarray(real_rewards[vel][job][:-30])) for job in velocities[vel]])) for vel in vellist}\n",
    "for vel in vellist:\n",
    "    plt.axvline(x = vel)\n",
    "plt.scatter(vellist, [avg_rewards[vel] for vel in vellist])\n",
    "print(avg_rewards)"
   ]
  },
  {
   "cell_type": "code",
   "execution_count": null,
   "metadata": {},
   "outputs": [],
   "source": [
    "for vel in real_rewards:\n",
    "    fig, ax = plt.subplots()\n",
    "    ax.axhline(y=avg_rewards[vel], color=\"green\")\n",
    "    ax.plot(real_rewards[vel], label=f\"vel={vel}\")\n",
    "    ax.legend()"
   ]
  },
  {
   "cell_type": "code",
   "execution_count": null,
   "metadata": {},
   "outputs": [],
   "source": [
    "converged = []\n",
    "iters = {}\n",
    "for vel in velocities:\n",
    "    max_r = dict(max_rewards)[vel]\n",
    "    for (i, r) in enumerate(real_rewards[vel]):\n",
    "        if abs(r - max_r)/abs(max_r) < 0.01:\n",
    "            iters[vel] = i\n",
    "            break\n",
    "print(iters)\n",
    "plt.scatter(vellist, [iters[vel] for vel in vellist])"
   ]
  },
  {
   "cell_type": "code",
   "execution_count": null,
   "metadata": {},
   "outputs": [],
   "source": [
    "dict(max_rewards)[0.1]"
   ]
  },
  {
   "cell_type": "code",
   "execution_count": null,
   "metadata": {},
   "outputs": [],
   "source": [
    "plt.plot(real_rewards[0.1])"
   ]
  },
  {
   "cell_type": "code",
   "execution_count": 2,
   "metadata": {},
   "outputs": [],
   "source": [
    "import numpy as np\n",
    "vvs = []\n",
    "pvvs = []\n",
    "for i in range(50):\n",
    "    vvs.append(np.random.uniform(-2, 2))\n",
    "    pvvs.append(np.random.uniform(0, 2))"
   ]
  },
  {
   "cell_type": "code",
   "execution_count": 6,
   "metadata": {},
   "outputs": [
    {
     "data": {
      "text/plain": [
       "[-0.746158839946947,\n",
       " 1.743962766965466,\n",
       " -0.2672864093987619,\n",
       " 1.4426405552546897,\n",
       " -0.17696407791281343,\n",
       " -0.3698299660901614,\n",
       " 1.024333900541352,\n",
       " -1.7446383968110104,\n",
       " 1.4440491042021146,\n",
       " 0.5859869947751855,\n",
       " 1.5821955208390173,\n",
       " -0.3154402841670607,\n",
       " 0.3832865251494302,\n",
       " -1.7978457591209782,\n",
       " 0.29842261767782485,\n",
       " -1.8033635157629435,\n",
       " 0.5794283291258537,\n",
       " 0.18651268962683476,\n",
       " -0.3229144443013525,\n",
       " -1.7938688673545204,\n",
       " 0.5406849510175071,\n",
       " 0.07204572152315025,\n",
       " -1.5861312372225247,\n",
       " 1.751231701130191,\n",
       " 0.20420627078332387,\n",
       " 1.9980781269815657,\n",
       " 0.989185508186103,\n",
       " 1.6277869932166316,\n",
       " 1.0742539363031312,\n",
       " -0.9403415060558507,\n",
       " 1.0389335796628982,\n",
       " -0.47633737964470546,\n",
       " 0.8339289091674424,\n",
       " 0.3099979002884732,\n",
       " -0.3976811780602705,\n",
       " 1.6449262995435983,\n",
       " 0.8035494043627067,\n",
       " 0.28753766546446835,\n",
       " 0.9303670278027862,\n",
       " -0.010502656807070743,\n",
       " 1.0358099399420033,\n",
       " 1.0187135317621374,\n",
       " -1.8260906814013884,\n",
       " -1.7069689736491305,\n",
       " 1.1662884150421666,\n",
       " 1.314702952182217,\n",
       " 0.35140325637630365,\n",
       " -1.7513280513093137,\n",
       " 0.8901781307829633,\n",
       " 0.6399941455507774]"
      ]
     },
     "execution_count": 6,
     "metadata": {},
     "output_type": "execute_result"
    },
    {
     "data": {
      "image/png": "[encoded data removed]",
      "text/plain": [
       "<Figure size 432x288 with 1 Axes>"
      ]
     },
     "metadata": {
      "needs_background": "light"
     },
     "output_type": "display_data"
    }
   ],
   "source": [
    "import matplotlib.pyplot as plt\n",
    "plt.stem(vvs)\n",
    "vvs"
   ]
  },
  {
   "cell_type": "code",
   "execution_count": 8,
   "metadata": {},
   "outputs": [
    {
     "data": {
      "text/plain": [
       "[1.5962391270765186,\n",
       " 0.7596905798517473,\n",
       " 0.446569807067696,\n",
       " 0.6839748986766789,\n",
       " 1.9796794148215875,\n",
       " 1.4394623253147476,\n",
       " 0.916581930792842,\n",
       " 1.0159721525961007,\n",
       " 0.03509970309135935,\n",
       " 1.0279660065732978,\n",
       " 0.8417713292294828,\n",
       " 1.0039649959478978,\n",
       " 0.4386806514299153,\n",
       " 0.2084757762971805,\n",
       " 1.069039387352636,\n",
       " 1.0104106181618062,\n",
       " 1.307693728100631,\n",
       " 1.3280230191370277,\n",
       " 0.573310560909039,\n",
       " 1.5053058025905945,\n",
       " 1.0378361729481458,\n",
       " 0.7099920113267637,\n",
       " 0.8830736713881044,\n",
       " 1.8127418798712234,\n",
       " 0.5929505379210325,\n",
       " 1.8265548532151075,\n",
       " 1.4067951921355826,\n",
       " 0.1755796262867817,\n",
       " 1.1921525862877949,\n",
       " 0.18370504195984583,\n",
       " 0.6157351311146437,\n",
       " 1.1886642794433624,\n",
       " 0.4202674012904719,\n",
       " 1.3029913639449893,\n",
       " 1.0808173301848927,\n",
       " 0.1610369966322096,\n",
       " 1.3258439609999604,\n",
       " 0.6237995937881609,\n",
       " 0.16434654146600924,\n",
       " 0.6326006759636071,\n",
       " 0.40396022499257866,\n",
       " 0.9266241400082667,\n",
       " 0.26828064487277836,\n",
       " 0.1421050471144194,\n",
       " 1.4200987955167579,\n",
       " 0.6519347041656935,\n",
       " 1.05543937698312,\n",
       " 0.32726944650234646,\n",
       " 0.008432385947067411,\n",
       " 1.217488312872602]"
      ]
     },
     "execution_count": 8,
     "metadata": {},
     "output_type": "execute_result"
    },
    {
     "data": {
      "image/png": "[encoded data removed]",
      "text/plain": [
       "<Figure size 432x288 with 1 Axes>"
      ]
     },
     "metadata": {
      "needs_background": "light"
     },
     "output_type": "display_data"
    }
   ],
   "source": [
    "plt.stem(pvvs)\n",
    "pvvs"
   ]
  },
  {
   "cell_type": "code",
   "execution_count": null,
   "metadata": {},
   "outputs": [],
   "source": []
  }
 ],
 "metadata": {
  "kernelspec": {
   "display_name": "Python 3",
   "language": "python",
   "name": "python3"
  },
  "language_info": {
   "codemirror_mode": {
    "name": "ipython",
    "version": 3
   },
   "file_extension": ".py",
   "mimetype": "text/x-python",
   "name": "python",
   "nbconvert_exporter": "python",
   "pygments_lexer": "ipython3",
   "version": "3.6.8"
  }
 },
 "nbformat": 4,
 "nbformat_minor": 2
}
