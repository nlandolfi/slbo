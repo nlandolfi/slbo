{
 "cells": [
  {
   "cell_type": "code",
   "execution_count": 1,
   "metadata": {},
   "outputs": [],
   "source": [
    "# Run metatrain algorithm randomly picking tasks, one iteration of SLBO."
   ]
  },
  {
   "cell_type": "code",
   "execution_count": 2,
   "metadata": {},
   "outputs": [],
   "source": [
    "import utils2"
   ]
  },
  {
   "cell_type": "code",
   "execution_count": 3,
   "metadata": {},
   "outputs": [
    {
     "name": "stdout",
     "output_type": "stream",
     "text": [
      "Skipping Load\n",
      "Reading lines\n",
      "Read lines\n"
     ]
    }
   ],
   "source": [
    "r = utils2.load(672678, reload=False)"
   ]
  },
  {
   "cell_type": "code",
   "execution_count": 4,
   "metadata": {},
   "outputs": [
    {
     "data": {
      "image/png": "[encoded data removed]",
      "text/plain": [
       "<Figure size 432x288 with 1 Axes>"
      ]
     },
     "metadata": {
      "needs_background": "light"
     },
     "output_type": "display_data"
    }
   ],
   "source": [
    "r.plot_tasks()"
   ]
  },
  {
   "cell_type": "code",
   "execution_count": null,
   "metadata": {},
   "outputs": [],
   "source": [
    "# MAP: 670913 = warmup iters 80, slbo = 1, \n",
    "# MAP: 671006 = warmup iters 30, slbo = 1,\n",
    "# MAP: 671012 = warmup iters 30, slbo = 2,"
   ]
  },
  {
   "cell_type": "code",
   "execution_count": null,
   "metadata": {},
   "outputs": [],
   "source": [
    "jobs = [\n",
    "    670913,\n",
    "    671006,\n",
    "    671012,\n",
    "]"
   ]
  },
  {
   "cell_type": "code",
   "execution_count": null,
   "metadata": {},
   "outputs": [],
   "source": [
    "remotepaths = [f\"/tiger/u/lando/cmeta/{job}/log.json\" for job in jobs]\n",
    "localpaths = [f\"/tmp/log{job}.json\" for job in jobs]"
   ]
  },
  {
   "cell_type": "code",
   "execution_count": null,
   "metadata": {},
   "outputs": [],
   "source": [
    "# buffer\n",
    "reload = False"
   ]
  },
  {
   "cell_type": "code",
   "execution_count": null,
   "metadata": {},
   "outputs": [],
   "source": [
    "import os\n",
    "\n",
    "if reload:\n",
    "    for (i, job) in enumerate(jobs):\n",
    "        command = f\"scp lando@sc.stanford.edu:{remotepaths[i]} {localpaths[i]}\"\n",
    "        rcode = os.system(command)\n",
    "        if rcode != 0:\n",
    "            print(command)\n",
    "            raise Exception(\"Bad Status code\")\n",
    "        print(f\"Loaded Job {job}\")"
   ]
  },
  {
   "cell_type": "code",
   "execution_count": null,
   "metadata": {},
   "outputs": [],
   "source": [
    "lines = [read_log(localpath) for localpath in localpaths]"
   ]
  },
  {
   "cell_type": "code",
   "execution_count": null,
   "metadata": {},
   "outputs": [],
   "source": [
    "def tasks_from_lines(ls):\n",
    "    ts = []\n",
    "    for l in ls:\n",
    "        if \"Task Sampled\" in l[\"fmt\"]:\n",
    "            ts.append(l[\"args\"][0][\"goal_velocity\"])\n",
    "    return ts"
   ]
  },
  {
   "cell_type": "code",
   "execution_count": null,
   "metadata": {},
   "outputs": [],
   "source": [
    "tasks = [tasks_from_lines(l) for l in lines]"
   ]
  },
  {
   "cell_type": "code",
   "execution_count": null,
   "metadata": {},
   "outputs": [],
   "source": [
    "warms, slbos = [], []\n",
    "for (i, line) in enumerate(lines):\n",
    "    warm, slbo = extract_rewards(line)\n",
    "    warms.append(warm)\n",
    "    slbos.append(slbo)\n",
    "    print(f\"Job: {jobs[i]}\")\n",
    "    print(f\"\\tNum warms {len(warm)}\")\n",
    "    print(f\"\\tNum slbo {len(slbo)}\")"
   ]
  },
  {
   "cell_type": "code",
   "execution_count": null,
   "metadata": {},
   "outputs": [],
   "source": [
    "slbos[0][1][1]"
   ]
  },
  {
   "cell_type": "code",
   "execution_count": null,
   "metadata": {},
   "outputs": [],
   "source": [
    "real_warms, virt_warms, shad_warms, train_losses, dev_losses, grad_norms, timings = [], [], [], [], [], [], []\n",
    "for (i, line) in enumerate(lines):\n",
    "    real_warm, virt_warm, shad_warm, train_loss, dev_loss, grad_norm, timing = get_warmups2(line, 0)\n",
    "    real_warms.append(real_warm)\n",
    "    virt_warms.append(virt_warm)\n",
    "    shad_warms.append(shad_warm)\n",
    "    train_losses.append(train_loss)\n",
    "    dev_losses.append(dev_loss)\n",
    "    grad_norms.append(grad_norm)\n",
    "    timings.append(timing)\n",
    "    print(f\"Job: {jobs[i]}\")\n",
    "    print(f\"\\tlength of real {len(real_warm)}\")\n",
    "    print(f\"\\tlength of virt {len(virt_warm)}\")\n",
    "    print(f\"\\tlength of shad {len(shad_warm)}\")\n",
    "    print(f\"\\tlength of train {len(train_loss)}\")\n",
    "    print(f\"\\tlength of dev {len(dev_loss)}\")\n",
    "    print(f\"\\tlength of grad {len(grad_norm)}\")\n",
    "    print(f\"\\tlength of timing {len(timing)}\")"
   ]
  },
  {
   "cell_type": "code",
   "execution_count": null,
   "metadata": {},
   "outputs": [],
   "source": [
    "x = timings[0][1][0]\n",
    "y = timings[0][1][1]\n",
    "d = y - x\n",
    "d"
   ]
  },
  {
   "cell_type": "code",
   "execution_count": null,
   "metadata": {},
   "outputs": [],
   "source": [
    "d.total_seconds()"
   ]
  },
  {
   "cell_type": "code",
   "execution_count": null,
   "metadata": {},
   "outputs": [],
   "source": [
    "import datetime\n",
    "MEtimings = []\n",
    "for l in lines[1]:\n",
    "    if \"[TRPO]\" in l[\"fmt\"]:\n",
    "        t = datetime.datetime.strptime(l[\"time\"], '%Y-%m-%dT%H:%M:%S.%f')\n",
    "        MEtimings.append(t)"
   ]
  },
  {
   "cell_type": "code",
   "execution_count": null,
   "metadata": {},
   "outputs": [],
   "source": [
    "def plot_a_timing(ts):\n",
    "    tzero = ts[0]\n",
    "    secs = [(t - tzero).total_seconds() for t in ts]\n",
    "    plt.plot(secs, label=\"TRPO iters\", color=\"blue\")    \n",
    "    plt.legend()\n",
    "    plt.figure()\n",
    "    plt.hist(np.diff(np.asarray(secs)), log=True)\n",
    "    plt.axhline\n",
    "    plt.axhline(y=50)\n",
    "    plt.axhline(y=50*40, label=\"TASKS * SLBOS * TRPOS\")\n",
    "    plt.axhline(y=1, label=\"1\")\n",
    "    plt.legend()"
   ]
  },
  {
   "cell_type": "code",
   "execution_count": null,
   "metadata": {},
   "outputs": [],
   "source": [
    "def predict_time(warmup_iters, warmup_policy_iters, warmup_eval_times, tasks, slbo_iters, inner_iters, policy_iters):\n",
    "    return warmup_iters * warmup_policy_iters * 2 + warmup_eval_times * 8 + tasks * 40 + tasks * inner_iters * slbo_iters * policy_iters * 2"
   ]
  },
  {
   "cell_type": "code",
   "execution_count": null,
   "metadata": {},
   "outputs": [],
   "source": [
    "predict_time(80, 40, 80, 50, 1, 40, 40)"
   ]
  },
  {
   "cell_type": "code",
   "execution_count": null,
   "metadata": {},
   "outputs": [],
   "source": [
    "plot_a_timing(MEtimings)"
   ]
  },
  {
   "cell_type": "code",
   "execution_count": null,
   "metadata": {},
   "outputs": [],
   "source": [
    "def plot_timing(jobidx, n):\n",
    "    if n == 0:\n",
    "        return\n",
    "    fig, ax = plt.subplots(figsize=(15, 5))\n",
    "    ts = timings[jobidx][n]\n",
    "    tzero = ts[0]\n",
    "    print(len(ts))\n",
    "    ts = [t - tzero for t in ts]\n",
    "    ts = [(t.seconds * 1e6 + t.microseconds)/(1e6) for t in ts]\n",
    "    plt.plot(ts[:90], label=\"TRPO iters\", color=\"blue\")\n",
    "    #plt.axhline(y=60, label=\"1 min\", color=\"grey\")\n",
    "    #plt.axhline(y=60*30, label=\"1/2 hour\", color=\"green\")\n",
    "    #plt.axhline(y = 60 * 60, label=\"1 hour\", color=\"red\")\n",
    "    for i in range(2):\n",
    "        plt.axvline(x=40*i)\n",
    "    plt.legend()\n",
    "    plt.axhline(y=20)\n",
    "    plt.axhline(y=28)\n",
    "    print(max(np.diff(ts)))\n",
    "    return ts[len(ts)-1]\n",
    "\n",
    "x = plot_timing(0, 1)\n",
    "x/80/40"
   ]
  },
  {
   "cell_type": "code",
   "execution_count": null,
   "metadata": {},
   "outputs": [],
   "source": [
    "for (i, task) in enumerate(tasks):\n",
    "    plt.stem(task)\n",
    "    plt.title(f\"Job {jobs[i]}\")\n",
    "    plt.figure()"
   ]
  },
  {
   "cell_type": "code",
   "execution_count": null,
   "metadata": {},
   "outputs": [],
   "source": [
    "real_rewards, virt_rewards = [], []\n",
    "for (i, line) in enumerate(lines):\n",
    "    real_reward, virt_reward = get_multi_checkpoints(line, includepost=True)\n",
    "    real_rewards.append(real_reward)\n",
    "    virt_rewards.append(virt_reward)"
   ]
  },
  {
   "cell_type": "code",
   "execution_count": null,
   "metadata": {},
   "outputs": [],
   "source": [
    "mins = {\n",
    "    0.1: -233.78927811594411, \n",
    "    0.5: -411.35567527732564, \n",
    "    0.9: -610.8872788980733, \n",
    "    1.1: -710.8872788980734, \n",
    "    1.5: -910.8872788980736, \n",
    "    1.9: -1110.8872788980734,\n",
    "}\n",
    "maxs = {\n",
    "    0.1: -3.5636334132798204, \n",
    "    0.5: -10.710668525449655, \n",
    "    0.9: -30.98072317031702, \n",
    "    1.1: -44.14465103596886, \n",
    "    1.5: -51.02850590038164, \n",
    "    1.9: -61.263854017466976\n",
    "}\n",
    "\n",
    "avgs = {\n",
    "    0.1: -10.202044447173503, \n",
    "    0.5: -21.142860320736776, \n",
    "    0.9: -46.16668517147687, \n",
    "    1.1: -66.24972224328671, \n",
    "    1.5: -87.42144407053759, \n",
    "    1.9: -113.32796903390458, \n",
    "    2.0: -137.50432902203622,\n",
    "}\n",
    "\n",
    "\n",
    "#### AVERAGED \n",
    "\n",
    "maxs = {-2.0: -90.60565689208266, -1.9: -70.67690735370886, -1.5: -42.06956291427862, -1.1: -36.99489419364075, -1.0: -23.743657058369845, -0.9: -21.157800214277188, -0.1: -3.1041742201174394, -0.5: -10.680755730823584, 0.1: -3.4021209446496337, 0.5: -12.323942266246538, 0.9: -23.53198112703673, 1.1: -31.343789461165542, 1.5: -51.21932985927324, 1.9: -63.050301977318384, 2.0: -85.4236675900036}\n",
    "mins = {-2.0: -993.9190119522864, -1.9: -945.0818382085795, -1.5: -745.0818382085795, -1.1: -546.2446644648728, -1.0: -510.61478664909976, -0.9: -445.43216946165614, -0.1: -187.5039532110764, -0.5: -259.65397607613966, 0.1: -231.2243621688237, 0.5: -410.1003669467948, 0.9: -609.6475634930734, 1.1: -709.6475634930736, 1.5: -909.6475634930736, 1.9: -1109.6475634930734, 2.0: -1160.8872788980732}\n",
    "avgs = {-2.0: -136.4502250988098, -1.9: -101.15423269038038, -1.5: -73.20949096123613, -1.1: -61.13370977385761, -1.0: -47.087996715423955, -0.9: -35.88038558730979, -0.1: -8.75671650336899, -0.5: -18.677280704086265, 0.1: -9.545282672321349, 0.5: -23.09364493886916, 0.9: -40.610557419984794, 1.1: -50.763872744894364, 1.5: -81.94783046596359, 1.9: -105.55608759237818, 2.0: -137.50432902203622}"
   ]
  },
  {
   "cell_type": "code",
   "execution_count": null,
   "metadata": {},
   "outputs": [],
   "source": [
    "def min_dist(nvel):\n",
    "    dist = np.inf\n",
    "    rvel = None\n",
    "    for vel in avgs:\n",
    "        d = np.abs(vel - nvel)\n",
    "        if d < dist:\n",
    "            dist = d\n",
    "            rvel = vel\n",
    "    return rvel"
   ]
  },
  {
   "cell_type": "code",
   "execution_count": null,
   "metadata": {},
   "outputs": [],
   "source": [
    "def est(vals, vel):\n",
    "    vels = list(vals.keys())\n",
    "    vels.sort()\n",
    "    for i in range(1, len(vels)):\n",
    "        if vel >= vels[i-1] and vel <= vels[i]:\n",
    "            a, b = vels[i-1], vels[i]\n",
    "            slope = (vals[b] - vals[a])/ (b - a)\n",
    "            \n",
    "            return vals[a] + slope * (vel - a)\n",
    "    raise Exception(\"not good\")"
   ]
  },
  {
   "cell_type": "code",
   "execution_count": null,
   "metadata": {},
   "outputs": [],
   "source": [
    "est(maxs, -1.95)"
   ]
  },
  {
   "cell_type": "code",
   "execution_count": null,
   "metadata": {},
   "outputs": [],
   "source": [
    "def plot_task_warmup(jobidx, n):\n",
    "    if n == 0:\n",
    "        return\n",
    "    \n",
    "    fig, ax = plt.subplots(figsize=(15, 5))\n",
    "\n",
    "    plot_stage(ax, warms[jobidx][n], 80, 40)\n",
    "    \n",
    "    length = min(len(real_warms[jobidx][n]), len(virt_warms[jobidx][n]))\n",
    "\n",
    "    ax.scatter([(i+1)*40 for i in range(0, length)], real_warms[jobidx][n], color=\"r\")\n",
    "    ax.scatter([(i+1)*40 for i in range(0, length)], virt_warms[jobidx][n], color=\"y\")\n",
    "    \n",
    "    taskvel = tasks[jobidx][n]\n",
    "    ax.axhline(y=est(mins, taskvel), color=\"yellow\", label=\"min\")\n",
    "    ax.axhline(y=est(maxs, taskvel), color=\"orange\", label=\"max\")\n",
    "    ax.axhline(y=est(avgs, taskvel), color=\"green\", label=\"avg\")\n",
    "    ax.set_ylim((-300, 0))\n",
    "    ax.set_title(f\"WARMUP: Task {n}, Velocity: {tasks[jobidx][n]} WARMUPS\")\n",
    "    ax.legend()\n",
    "    \n",
    "def plot_task_stages(jobidx, n, ):\n",
    "    print(f\"Task {n}\")\n",
    "    axs = plot_stages(slbos[jobidx][n], 40, 40, ylim=(-300, 0))\n",
    "    num = len(slbos[jobidx][n])\n",
    "    if num == 1:\n",
    "        taskvel = tasks[jobidx][n]\n",
    "        axs.axhline(y=est(mins, taskvel), color=\"yellow\", label=\"min\")\n",
    "        axs.axhline(y=est(maxs, taskvel), color=\"orange\", label=\"max\")\n",
    "        axs.axhline(y=est(avgs, taskvel), color=\"green\", label=\"avg\")\n",
    "    else:\n",
    "        for ax in axs:\n",
    "            taskvel = tasks[jobidx][n]\n",
    "            ax.axhline(y=est(mins, taskvel), color=\"yellow\", label=\"min\")\n",
    "            ax.axhline(y=est(maxs, taskvel), color=\"orange\", label=\"max\")\n",
    "            ax.axhline(y=est(avgs, taskvel), color=\"green\", label=\"avg\")\n",
    "        \n",
    "def plot_stage_rewards(jobidx, n):\n",
    "    fig, ax = plt.subplots(figsize=(15, 5))\n",
    "    \n",
    "    ax.scatter(np.arange(len(real_rewards[jobidx][n])), real_rewards[jobidx][n], color=\"r\")\n",
    "    ax.scatter(np.arange(len(virt_rewards[jobidx][n])), virt_rewards[jobidx][n], color=\"y\")\n",
    "    \n",
    "    taskvel = tasks[jobidx][n]\n",
    "    ax.axhline(y=est(mins, taskvel), color=\"yellow\", label=\"min\")\n",
    "    ax.axhline(y=est(maxs, taskvel), color=\"orange\", label=\"max\")\n",
    "    ax.axhline(y=est(avgs, taskvel), color=\"green\", label=\"avg\")\n",
    "    ax.set_ylim((-300, 0))\n",
    "    ax.set_title(f\"Task {n}, Velocity: {tasks[jobidx][n]}, STAGES\")"
   ]
  },
  {
   "cell_type": "code",
   "execution_count": null,
   "metadata": {},
   "outputs": [],
   "source": [
    "def plot_warmup_model(jobidx, n):\n",
    "    if n == 0:\n",
    "        return\n",
    "    \n",
    "    fig, ax = plt.subplots(figsize=(15, 5))\n",
    "    \n",
    "    plt.scatter(np.arange(len(train_losses[jobidx][n])), train_losses[jobidx][n], label =\"train_loss\", color=\"b\")\n",
    "    plt.scatter(np.arange(len(dev_losses[jobidx][n])), dev_losses[jobidx][n], label=\"dev loss\", color=\"g\")\n",
    "#    plt.plot(grad_norms[jobidx][n])\n",
    "    plt.legend()\n",
    "    plt.ylim(0.0, 0.2)\n",
    "    plt.ylabel(\"loss\")\n",
    "    plt.xlabel(\"warmup iter\")\n",
    "    plt.title(f\"Task {n} Model Losses\"\")"
   ]
  },
  {
   "cell_type": "code",
   "execution_count": null,
   "metadata": {},
   "outputs": [],
   "source": [
    "plot_warmup_model(0, 3)"
   ]
  },
  {
   "cell_type": "code",
   "execution_count": null,
   "metadata": {},
   "outputs": [],
   "source": [
    "print(f\"This will print > 2 * {len(tasks[0])} plots\")\n",
    "for (i, t) in enumerate(tasks[0]):\n",
    "    #plot_warmup_model(0, i)\n",
    "    plot_task_warmup(0, i)\n",
    "    #plt.figure()\n",
    "    #plot_task_stages(0, i)\n",
    "    #plt.figure()\n",
    "    #plot_stage_rewards(0, i)\n",
    "    #plt.figure()"
   ]
  },
  {
   "cell_type": "code",
   "execution_count": null,
   "metadata": {},
   "outputs": [],
   "source": [
    "for (i,t) in enumerate(tasks[1]):\n",
    "    #plot_task(1, i)\n",
    "    #plot_task_stages(1, i)\n",
    "    plot_stage_rewards(1, i)"
   ]
  },
  {
   "cell_type": "code",
   "execution_count": null,
   "metadata": {},
   "outputs": [],
   "source": [
    "for (i,t) in enumerate(tasks[2]):\n",
    "    #plot_task_warmup(2, i)\n",
    "    #plot_task_stages(2, i)\n",
    "    plot_stage_rewards(2, i)"
   ]
  },
  {
   "cell_type": "code",
   "execution_count": null,
   "metadata": {},
   "outputs": [],
   "source": [
    "for l in lines[0]:\n",
    "    if "
   ]
  },
  {
   "cell_type": "code",
   "execution_count": null,
   "metadata": {},
   "outputs": [],
   "source": [
    "import math\n",
    "vs = []\n",
    "for i in range(50):\n",
    "    u = np.random.uniform(0, 3)\n",
    "    vs.append(u)"
   ]
  },
  {
   "cell_type": "code",
   "execution_count": null,
   "metadata": {},
   "outputs": [],
   "source": [
    "vs"
   ]
  },
  {
   "cell_type": "code",
   "execution_count": null,
   "metadata": {},
   "outputs": [],
   "source": []
  }
 ],
 "metadata": {
  "kernelspec": {
   "display_name": "Python 3",
   "language": "python",
   "name": "python3"
  },
  "language_info": {
   "codemirror_mode": {
    "name": "ipython",
    "version": 3
   },
   "file_extension": ".py",
   "mimetype": "text/x-python",
   "name": "python",
   "nbconvert_exporter": "python",
   "pygments_lexer": "ipython3",
   "version": "3.6.8"
  }
 },
 "nbformat": 4,
 "nbformat_minor": 2
}
