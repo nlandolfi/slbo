{
 "cells": [
  {
   "cell_type": "code",
   "execution_count": 1,
   "metadata": {},
   "outputs": [],
   "source": [
    "import numpy as np\n",
    "import cvxpy as cp\n",
    "import matplotlib.pyplot as plt"
   ]
  },
  {
   "cell_type": "code",
   "execution_count": 14,
   "metadata": {},
   "outputs": [],
   "source": [
    "np.random.seed(11)"
   ]
  },
  {
   "cell_type": "code",
   "execution_count": 15,
   "metadata": {},
   "outputs": [],
   "source": [
    "k = 10\n",
    "N = 100\n",
    "ws = []\n",
    "for i in range(N):\n",
    "    ws.append(np.random.multivariate_normal(np.zeros(k), np.eye(k), 1))\n",
    "W = np.vstack(ws)"
   ]
  },
  {
   "cell_type": "code",
   "execution_count": 16,
   "metadata": {},
   "outputs": [],
   "source": [
    "F = np.random.rand(k, k)\n",
    "X = np.matmul(F, W.T).T"
   ]
  },
  {
   "cell_type": "code",
   "execution_count": 17,
   "metadata": {},
   "outputs": [],
   "source": [
    "Xtrain = X[:80, :]\n",
    "Xtest = X[80:, :]"
   ]
  },
  {
   "cell_type": "code",
   "execution_count": 104,
   "metadata": {},
   "outputs": [],
   "source": [
    "R = cp.Variable((k, k))\n",
    "eta = cp.Variable(k)"
   ]
  },
  {
   "cell_type": "code",
   "execution_count": 105,
   "metadata": {},
   "outputs": [],
   "source": [
    "obj = 0.\n",
    "\n",
    "for i in range(80):\n",
    "    x = Xtrain[i, :].T\n",
    "    obj += cp.quad_form(x, R) - 2*cp.matmul(x.T, eta) + cp.matrix_frac(eta, R) - cp.log_det(R)"
   ]
  },
  {
   "cell_type": "code",
   "execution_count": 106,
   "metadata": {},
   "outputs": [],
   "source": [
    "prob = cp.Problem(cp.Minimize(obj), [R >= 0, R == R.T])\n",
    "prob.solve()\n",
    "Fopt = R.value"
   ]
  },
  {
   "cell_type": "code",
   "execution_count": 108,
   "metadata": {},
   "outputs": [
    {
     "data": {
      "text/plain": [
       "<matplotlib.image.AxesImage at 0xb188ec2e8>"
      ]
     },
     "execution_count": 108,
     "metadata": {},
     "output_type": "execute_result"
    },
    {
     "data": {
      "image/png": "[encoded data removed]",
      "text/plain": [
       "<Figure size 432x288 with 1 Axes>"
      ]
     },
     "metadata": {
      "needs_background": "light"
     },
     "output_type": "display_data"
    }
   ],
   "source": [
    "plt.imshow(np.matmul(F, F.T))"
   ]
  },
  {
   "cell_type": "code",
   "execution_count": 110,
   "metadata": {
    "scrolled": true
   },
   "outputs": [
    {
     "data": {
      "text/plain": [
       "<matplotlib.image.AxesImage at 0xb1882f748>"
      ]
     },
     "execution_count": 110,
     "metadata": {},
     "output_type": "execute_result"
    },
    {
     "data": {
      "image/png": "[encoded data removed]",
      "text/plain": [
       "<Figure size 432x288 with 1 Axes>"
      ]
     },
     "metadata": {
      "needs_background": "light"
     },
     "output_type": "display_data"
    }
   ],
   "source": [
    "plt.imshow(np.linalg.inv(Fopt))"
   ]
  },
  {
   "cell_type": "code",
   "execution_count": 20,
   "metadata": {},
   "outputs": [
    {
     "data": {
      "text/plain": [
       "<matplotlib.image.AxesImage at 0xb19a479b0>"
      ]
     },
     "execution_count": 20,
     "metadata": {},
     "output_type": "execute_result"
    },
    {
     "data": {
      "image/png": "[encoded data removed]",
      "text/plain": [
       "<Figure size 432x288 with 1 Axes>"
      ]
     },
     "metadata": {
      "needs_background": "light"
     },
     "output_type": "display_data"
    }
   ],
   "source": [
    "Favg = 1/80. * np.sum(np.array([np.outer(X[i, :], X[i, :]) for i in range(80)]), axis=0)\n",
    "plt.imshow(Favg)"
   ]
  },
  {
   "cell_type": "code",
   "execution_count": 49,
   "metadata": {},
   "outputs": [
    {
     "data": {
      "text/plain": [
       "(3,)"
      ]
     },
     "execution_count": 49,
     "metadata": {},
     "output_type": "execute_result"
    }
   ],
   "source": [
    "np.array([1, 2, 3]).shape"
   ]
  },
  {
   "cell_type": "code",
   "execution_count": 36,
   "metadata": {},
   "outputs": [],
   "source": [
    "import scipy as sp\n",
    "import scipy.stats\n",
    "import math\n",
    "\n",
    "# Compute log likelihood of test set\n",
    "def test_likelihood(mean, covariance):\n",
    "    l = 0\n",
    "    for i in range(20):\n",
    "        x = X[80+i, :]\n",
    "        l += -(1/2.)*np.matmul((x - mean).T, np.matmul(np.linalg.inv(covariance), (x - mean)))\n",
    "        l += -(1/2.)*(k * np.log(2*math.pi) + np.log(np.linalg.det(covariance)))\n",
    "    return l"
   ]
  },
  {
   "cell_type": "code",
   "execution_count": 127,
   "metadata": {},
   "outputs": [
    {
     "name": "stdout",
     "output_type": "stream",
     "text": [
      "Tru log likelihood: -183.29370784874172\n",
      "Opt log likelihood: -427.22667420371863\n",
      "Avg log likelihood: -190.49084676401293\n",
      "Per log likelihood: -269.6006925972442\n"
     ]
    }
   ],
   "source": [
    "print(f\"Tru log likelihood: {test_likelihood(np.zeros(10), np.matmul(F, F.T))}\")\n",
    "print(f\"Opt log likelihood: {test_likelihood(np.zeros(10), np.linalg.inv(R.value))}\")\n",
    "print(f\"Avg log likelihood: {test_likelihood(np.zeros(10), Favg)}\")\n",
    "print(f\"Per log likelihood: {test_likelihood(np.zeros(10), Favg + np.random.uniform()*np.eye(10))}\")"
   ]
  },
  {
   "cell_type": "code",
   "execution_count": 91,
   "metadata": {},
   "outputs": [],
   "source": [
    "def estimate(x, K, Sigma, mean=np.zeros(k)):\n",
    "    xhat = cp.Variable(k)\n",
    "    constraints = [x[i] == xhat[i] for i in K]\n",
    "    R = np.linalg.inv(Sigma)\n",
    "    obj = cp.quad_form(xhat - mean, R)\n",
    "    p = cp.Problem(cp.Minimize(obj), constraints)\n",
    "    p.solve()\n",
    "    return xhat.value"
   ]
  },
  {
   "cell_type": "code",
   "execution_count": 115,
   "metadata": {},
   "outputs": [
    {
     "data": {
      "text/plain": [
       "<matplotlib.collections.PathCollection at 0xb185798d0>"
      ]
     },
     "execution_count": 115,
     "metadata": {},
     "output_type": "execute_result"
    },
    {
     "data": {
      "image/png": "[encoded data removed]",
      "text/plain": [
       "<Figure size 432x288 with 1 Axes>"
      ]
     },
     "metadata": {
      "needs_background": "light"
     },
     "output_type": "display_data"
    }
   ],
   "source": [
    "plt.scatter(np.arange(k), xtest, c='r')\n",
    "plt.scatter(np.arange(k), estimate(xhat, [0, 1, 2, 3, 4,], Favg))"
   ]
  },
  {
   "cell_type": "code",
   "execution_count": 92,
   "metadata": {},
   "outputs": [
    {
     "data": {
      "text/plain": [
       "array([-2.67723399, -2.9955666 , -2.29670168, -2.23334956,  0.4016882 ,\n",
       "       -2.08111469, -0.9769002 , -2.04809829, -4.01253746, -2.34926633])"
      ]
     },
     "execution_count": 92,
     "metadata": {},
     "output_type": "execute_result"
    }
   ],
   "source": [
    "xtest = X[80, :]\n",
    "xtest"
   ]
  },
  {
   "cell_type": "code",
   "execution_count": 93,
   "metadata": {},
   "outputs": [],
   "source": [
    "xhat = estimate(xtest, np.arange(9), Favg, mean=np.ones(k))"
   ]
  },
  {
   "cell_type": "code",
   "execution_count": 129,
   "metadata": {},
   "outputs": [],
   "source": [
    "def errsfor(xtest, Fest):\n",
    "    errs = np.zeros(k)\n",
    "    for i in range(k):\n",
    "        K = set(np.arange(10))\n",
    "        K.remove(i)\n",
    "        xhat = estimate(xtest, K, Fest)\n",
    "        errs[i] = xtest[i] - xhat[i]\n",
    "    for i in range(10):\n",
    "        errs[i] /= Fest[i, i]\n",
    "    return errs"
   ]
  },
  {
   "cell_type": "code",
   "execution_count": 100,
   "metadata": {},
   "outputs": [
    {
     "data": {
      "text/plain": [
       "(0, 1)"
      ]
     },
     "execution_count": 100,
     "metadata": {},
     "output_type": "execute_result"
    },
    {
     "data": {
      "image/png": "[encoded data removed]",
      "text/plain": [
       "<Figure size 432x288 with 1 Axes>"
      ]
     },
     "metadata": {
      "needs_background": "light"
     },
     "output_type": "display_data"
    }
   ],
   "source": [
    "plt.stem(errsfor(Favg))\n",
    "plt.ylim(0, 1)"
   ]
  },
  {
   "cell_type": "code",
   "execution_count": 101,
   "metadata": {},
   "outputs": [
    {
     "data": {
      "text/plain": [
       "(0, 1)"
      ]
     },
     "execution_count": 101,
     "metadata": {},
     "output_type": "execute_result"
    },
    {
     "data": {
      "image/png": "[encoded data removed]",
      "text/plain": [
       "<Figure size 432x288 with 1 Axes>"
      ]
     },
     "metadata": {
      "needs_background": "light"
     },
     "output_type": "display_data"
    }
   ],
   "source": [
    "plt.stem(errsfor(np.matmul(F, F.T)))\n",
    "plt.ylim(0, 1)"
   ]
  },
  {
   "cell_type": "code",
   "execution_count": 130,
   "metadata": {},
   "outputs": [],
   "source": [
    "def valid(Fest):\n",
    "    avg = 0.\n",
    "    for i in range(20):\n",
    "        x = X[80+i, :]\n",
    "        avg += np.sum(np.abs(errsfor(x, Fest)))\n",
    "    avg /= 20\n",
    "    return avg"
   ]
  },
  {
   "cell_type": "code",
   "execution_count": 131,
   "metadata": {},
   "outputs": [
    {
     "data": {
      "text/plain": [
       "0.33452205040389404"
      ]
     },
     "execution_count": 131,
     "metadata": {},
     "output_type": "execute_result"
    }
   ],
   "source": [
    "valid(Favg)"
   ]
  },
  {
   "cell_type": "code",
   "execution_count": 132,
   "metadata": {},
   "outputs": [
    {
     "data": {
      "text/plain": [
       "0.29269882583567186"
      ]
     },
     "execution_count": 132,
     "metadata": {},
     "output_type": "execute_result"
    }
   ],
   "source": [
    "valid(np.matmul(F, F.T))"
   ]
  },
  {
   "cell_type": "code",
   "execution_count": 133,
   "metadata": {},
   "outputs": [
    {
     "data": {
      "text/plain": [
       "1.3564599112736848"
      ]
     },
     "execution_count": 133,
     "metadata": {},
     "output_type": "execute_result"
    }
   ],
   "source": [
    "valid(Favg + np.random.uniform()*np.eye(10))"
   ]
  },
  {
   "cell_type": "code",
   "execution_count": 135,
   "metadata": {},
   "outputs": [],
   "source": [
    "valids = [valid(Favg + eps*np.eye(10)) for eps in np.logspace(0, 10, 5)]"
   ]
  },
  {
   "cell_type": "code",
   "execution_count": 139,
   "metadata": {},
   "outputs": [
    {
     "data": {
      "text/plain": [
       "<matplotlib.collections.PathCollection at 0xb1cfd2518>"
      ]
     },
     "execution_count": 139,
     "metadata": {},
     "output_type": "execute_result"
    },
    {
     "data": {
      "image/png": "[encoded data removed]",
      "text/plain": [
       "<Figure size 432x288 with 1 Axes>"
      ]
     },
     "metadata": {
      "needs_background": "light"
     },
     "output_type": "display_data"
    }
   ],
   "source": [
    "plt.scatter(np.log(np.logspace(0, 10, 5)), valids)"
   ]
  },
  {
   "cell_type": "code",
   "execution_count": 138,
   "metadata": {},
   "outputs": [
    {
     "name": "stdout",
     "output_type": "stream",
     "text": [
      "1.0\n",
      "316.22776601683796\n",
      "100000.0\n",
      "31622776.60168379\n",
      "10000000000.0\n"
     ]
    }
   ],
   "source": [
    "for eps in np.logspace(0, 10, 5):\n",
    "    print(eps)"
   ]
  },
  {
   "cell_type": "code",
   "execution_count": null,
   "metadata": {},
   "outputs": [],
   "source": []
  }
 ],
 "metadata": {
  "kernelspec": {
   "display_name": "Python 3",
   "language": "python",
   "name": "python3"
  },
  "language_info": {
   "codemirror_mode": {
    "name": "ipython",
    "version": 3
   },
   "file_extension": ".py",
   "mimetype": "text/x-python",
   "name": "python",
   "nbconvert_exporter": "python",
   "pygments_lexer": "ipython3",
   "version": "3.6.8"
  }
 },
 "nbformat": 4,
 "nbformat_minor": 2
}
