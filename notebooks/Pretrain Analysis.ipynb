{
 "cells": [
  {
   "cell_type": "code",
   "execution_count": null,
   "metadata": {},
   "outputs": [],
   "source": [
    "from utils import *"
   ]
  },
  {
   "cell_type": "code",
   "execution_count": null,
   "metadata": {},
   "outputs": [],
   "source": [
    "lines = read_log(\"/Users/Nick/Downloads/prelog.json\")\n",
    "print(f\"Found {len(lines)} lines\")"
   ]
  },
  {
   "cell_type": "code",
   "execution_count": null,
   "metadata": {},
   "outputs": [],
   "source": [
    "warmup, slbo = extract_rewards(lines)\n",
    "print(f\"Found {len(warmup)} Warmups\")\n",
    "print(f\"Found {len(slbo)} Tasks\")\n",
    "print(f\"First task has {len(slbo[0])} Stages\")"
   ]
  },
  {
   "cell_type": "code",
   "execution_count": null,
   "metadata": {},
   "outputs": [],
   "source": [
    "vfn = "
   ]
  },
  {
   "cell_type": "code",
   "execution_count": null,
   "metadata": {},
   "outputs": [],
   "source": [
    "plot_stages(slbo[0], 20, 40)"
   ]
  },
  {
   "cell_type": "code",
   "execution_count": null,
   "metadata": {},
   "outputs": [],
   "source": [
    "plot_stages(slbo[0], 20, 40, ylim=(-800, 0))"
   ]
  },
  {
   "cell_type": "code",
   "execution_count": null,
   "metadata": {},
   "outputs": [],
   "source": [
    "real_rewards = []\n",
    "virt_rewards = []\n",
    "for line in lines:\n",
    "    if line[\"args\"][0] == \"episode\":\n",
    "        if line[\"args\"][1] == \"Real Env\":\n",
    "            real_rewards.append(line[\"args\"][3])\n",
    "        if line[\"args\"][1] == \"Virt Env\":\n",
    "            virt_rewards.append(line[\"args\"][3])"
   ]
  },
  {
   "cell_type": "code",
   "execution_count": null,
   "metadata": {},
   "outputs": [],
   "source": [
    "fig, ax = plt.subplots(figsize=(15, 5))\n",
    "ax.plot(real_rewards, label=\"real\")\n",
    "ax.plot(virt_rewards, label=\"virtual\")\n",
    "max_real = max(real_rewards)\n",
    "max_virt = max(virt_rewards)\n",
    "ax.axhline(y=max_real, label=f\"best real = {max_real:.3f}\", color=\"r\")\n",
    "ax.axhline(y=max_virt, label=f\"best virt = {max_virt:.3f}\", color=\"y\")\n",
    "ax.legend()\n",
    "for (i,v) in enumerate(real_rewards):\n",
    "    if v == max_real:\n",
    "        print(f\"Max real occurred at stage {i}\")"
   ]
  },
  {
   "cell_type": "code",
   "execution_count": null,
   "metadata": {},
   "outputs": [],
   "source": [
    "fig, ax = plt.subplots(figsize=(15, 5))\n",
    "ax.plot(np.asarray(virt_rewards) - np.asarray(real_rewards))"
   ]
  },
  {
   "cell_type": "code",
   "execution_count": null,
   "metadata": {},
   "outputs": [],
   "source": []
  }
 ],
 "metadata": {
  "kernelspec": {
   "display_name": "Python 3",
   "language": "python",
   "name": "python3"
  },
  "language_info": {
   "codemirror_mode": {
    "name": "ipython",
    "version": 3
   },
   "file_extension": ".py",
   "mimetype": "text/x-python",
   "name": "python",
   "nbconvert_exporter": "python",
   "pygments_lexer": "ipython3",
   "version": "3.6.8"
  }
 },
 "nbformat": 4,
 "nbformat_minor": 2
}
